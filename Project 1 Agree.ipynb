{
 "cells": [
  {
   "cell_type": "markdown",
   "id": "ef2632ba",
   "metadata": {},
   "source": [
    "# LIBRARIES"
   ]
  },
  {
   "cell_type": "code",
   "execution_count": 510,
   "id": "444012f2",
   "metadata": {},
   "outputs": [],
   "source": [
    "import pandas as pd\n",
    "import numpy as np\n",
    "import matplotlib.pyplot as plt\n",
    "import seaborn as sns"
   ]
  },
  {
   "cell_type": "markdown",
   "id": "b9fd82d2",
   "metadata": {},
   "source": [
    "# IMPORT DATASET"
   ]
  },
  {
   "cell_type": "code",
   "execution_count": 511,
   "id": "ec470528",
   "metadata": {},
   "outputs": [],
   "source": [
    "lands = pd.read_csv('D:/File Magang/dataset/int_agree_lands.CSV')\n",
    "season = pd.read_csv('D:/File Magang/dataset/int_agree_planting_season.csv')\n",
    "harvest = pd.read_csv('D:/File Magang/dataset/int_agree_harvest.csv')"
   ]
  },
  {
   "cell_type": "code",
   "execution_count": 512,
   "id": "41130790",
   "metadata": {},
   "outputs": [
    {
     "data": {
      "text/html": [
       "<div>\n",
       "<style scoped>\n",
       "    .dataframe tbody tr th:only-of-type {\n",
       "        vertical-align: middle;\n",
       "    }\n",
       "\n",
       "    .dataframe tbody tr th {\n",
       "        vertical-align: top;\n",
       "    }\n",
       "\n",
       "    .dataframe thead th {\n",
       "        text-align: right;\n",
       "    }\n",
       "</style>\n",
       "<table border=\"1\" class=\"dataframe\">\n",
       "  <thead>\n",
       "    <tr style=\"text-align: right;\">\n",
       "      <th></th>\n",
       "      <th>oid</th>\n",
       "      <th>landId</th>\n",
       "      <th>mitraId</th>\n",
       "      <th>farmerId</th>\n",
       "      <th>commodityId</th>\n",
       "      <th>size</th>\n",
       "      <th>targetProduction</th>\n",
       "      <th>ownershipStatus</th>\n",
       "      <th>landLegality</th>\n",
       "      <th>locationHeight</th>\n",
       "      <th>...</th>\n",
       "      <th>modifiedAt</th>\n",
       "      <th>modifiedBy</th>\n",
       "      <th>lengthUnit</th>\n",
       "      <th>additionalQuestion</th>\n",
       "      <th>farmerCode</th>\n",
       "      <th>isFarmer</th>\n",
       "      <th>fisheryImage</th>\n",
       "      <th>sector</th>\n",
       "      <th>varietyId</th>\n",
       "      <th>insert_date_dma</th>\n",
       "    </tr>\n",
       "  </thead>\n",
       "  <tbody>\n",
       "    <tr>\n",
       "      <th>0</th>\n",
       "      <td>623144bc35252700123ddc17</td>\n",
       "      <td>013ca6a2-ff98-45a2-af24-79ce109e83c7</td>\n",
       "      <td>e8d5fae8-b29d-42a0-b2df-a45e16cb01bc</td>\n",
       "      <td>203bcdcc-e0fe-4a54-aaf3-f3c5d2ae5149</td>\n",
       "      <td>8e6fc415-ce74-4102-822f-43cea7a5df93</td>\n",
       "      <td>0.8</td>\n",
       "      <td>0</td>\n",
       "      <td>NaN</td>\n",
       "      <td>NaN</td>\n",
       "      <td>0</td>\n",
       "      <td>...</td>\n",
       "      <td>2022-03-16 09:33:12</td>\n",
       "      <td>14b15574-c717-4353-8b2f-fcaf6c0a5102</td>\n",
       "      <td>ha</td>\n",
       "      <td>[]</td>\n",
       "      <td>NaN</td>\n",
       "      <td>True</td>\n",
       "      <td>NaN</td>\n",
       "      <td>NaN</td>\n",
       "      <td>NaN</td>\n",
       "      <td>2022-07-11 01:07:39</td>\n",
       "    </tr>\n",
       "    <tr>\n",
       "      <th>1</th>\n",
       "      <td>61654b8e1177761468a357dc</td>\n",
       "      <td>04058f53-7061-4e4c-b040-bda12ab3b708</td>\n",
       "      <td>14d2c037-d5f3-4d3d-b274-9813f6723cc0</td>\n",
       "      <td>7308b775-5c7b-41d8-8ddc-afcd002ab28e</td>\n",
       "      <td>7b1226a9-c064-4e5d-8135-c675a160e0de</td>\n",
       "      <td>2</td>\n",
       "      <td>0</td>\n",
       "      <td>NaN</td>\n",
       "      <td>NaN</td>\n",
       "      <td>0</td>\n",
       "      <td>...</td>\n",
       "      <td>2021-02-26 21:25:27</td>\n",
       "      <td>7aa7edd0-1a2e-4156-bc1e-71c54147107e</td>\n",
       "      <td>ha</td>\n",
       "      <td>[]</td>\n",
       "      <td>NaN</td>\n",
       "      <td>True</td>\n",
       "      <td>NaN</td>\n",
       "      <td>AGRICULTURE</td>\n",
       "      <td>NaN</td>\n",
       "      <td>2022-07-11 01:07:39</td>\n",
       "    </tr>\n",
       "    <tr>\n",
       "      <th>2</th>\n",
       "      <td>61654b8e1177761468a35b0d</td>\n",
       "      <td>0b3c3aa9-d96c-4ebe-9726-22b1e66ef015</td>\n",
       "      <td>3761d9c4-e04f-4a72-afa5-4c9c63813a12</td>\n",
       "      <td>672e6f8e-09d2-4290-b26a-8b44e42bd09a</td>\n",
       "      <td>54855fb3-414c-46d2-bca8-6a757e0419f9</td>\n",
       "      <td>1.88</td>\n",
       "      <td>0</td>\n",
       "      <td>Lahan Kelompok</td>\n",
       "      <td>Tidak</td>\n",
       "      <td>800</td>\n",
       "      <td>...</td>\n",
       "      <td>2021-09-15 00:24:14</td>\n",
       "      <td>215c77bb-9626-4454-8d56-9508754bec04</td>\n",
       "      <td>ha</td>\n",
       "      <td>[]</td>\n",
       "      <td>NaN</td>\n",
       "      <td>False</td>\n",
       "      <td>NaN</td>\n",
       "      <td>AGRICULTURE</td>\n",
       "      <td>NaN</td>\n",
       "      <td>2022-07-11 01:07:39</td>\n",
       "    </tr>\n",
       "    <tr>\n",
       "      <th>3</th>\n",
       "      <td>62581b08d1db5d0011fd1685</td>\n",
       "      <td>1fc3b980-73f1-49bd-9525-495e08cceccf</td>\n",
       "      <td>da1f32c6-0772-4846-b459-d88ab866c837</td>\n",
       "      <td>75a0a744-84eb-43c7-912e-b87166288535</td>\n",
       "      <td>8e6fc415-ce74-4102-822f-43cea7a5df93</td>\n",
       "      <td>0.38</td>\n",
       "      <td>0</td>\n",
       "      <td>NaN</td>\n",
       "      <td>NaN</td>\n",
       "      <td>0</td>\n",
       "      <td>...</td>\n",
       "      <td>2022-04-14 20:01:29</td>\n",
       "      <td>619147cb-c368-4337-ab48-03a5eb5dc5fe</td>\n",
       "      <td>ha</td>\n",
       "      <td>[]</td>\n",
       "      <td>NaN</td>\n",
       "      <td>True</td>\n",
       "      <td>NaN</td>\n",
       "      <td>NaN</td>\n",
       "      <td>NaN</td>\n",
       "      <td>2022-07-11 01:07:39</td>\n",
       "    </tr>\n",
       "    <tr>\n",
       "      <th>4</th>\n",
       "      <td>62147d4f427bdd0011ea2fe3</td>\n",
       "      <td>2ab8c034-801f-410f-ada7-0e94cd431660</td>\n",
       "      <td>0d2ceea7-10f6-49c6-adb8-cfff00160713</td>\n",
       "      <td>1ed2ffd6-ddc8-4abe-a3fd-285826434146</td>\n",
       "      <td>fe2f87eb-acb6-4079-a298-76ad1b4b76a5</td>\n",
       "      <td>5</td>\n",
       "      <td>0</td>\n",
       "      <td>NaN</td>\n",
       "      <td>NaN</td>\n",
       "      <td>0</td>\n",
       "      <td>...</td>\n",
       "      <td>2022-04-03 14:43:15</td>\n",
       "      <td>4f499889-180c-4083-8989-a902e7782ca0</td>\n",
       "      <td>ha</td>\n",
       "      <td>[]</td>\n",
       "      <td>NaN</td>\n",
       "      <td>True</td>\n",
       "      <td>NaN</td>\n",
       "      <td>AGRICULTURE</td>\n",
       "      <td>NaN</td>\n",
       "      <td>2022-07-11 01:07:39</td>\n",
       "    </tr>\n",
       "  </tbody>\n",
       "</table>\n",
       "<p>5 rows × 48 columns</p>\n",
       "</div>"
      ],
      "text/plain": [
       "                        oid                                landId  \\\n",
       "0  623144bc35252700123ddc17  013ca6a2-ff98-45a2-af24-79ce109e83c7   \n",
       "1  61654b8e1177761468a357dc  04058f53-7061-4e4c-b040-bda12ab3b708   \n",
       "2  61654b8e1177761468a35b0d  0b3c3aa9-d96c-4ebe-9726-22b1e66ef015   \n",
       "3  62581b08d1db5d0011fd1685  1fc3b980-73f1-49bd-9525-495e08cceccf   \n",
       "4  62147d4f427bdd0011ea2fe3  2ab8c034-801f-410f-ada7-0e94cd431660   \n",
       "\n",
       "                                mitraId                              farmerId  \\\n",
       "0  e8d5fae8-b29d-42a0-b2df-a45e16cb01bc  203bcdcc-e0fe-4a54-aaf3-f3c5d2ae5149   \n",
       "1  14d2c037-d5f3-4d3d-b274-9813f6723cc0  7308b775-5c7b-41d8-8ddc-afcd002ab28e   \n",
       "2  3761d9c4-e04f-4a72-afa5-4c9c63813a12  672e6f8e-09d2-4290-b26a-8b44e42bd09a   \n",
       "3  da1f32c6-0772-4846-b459-d88ab866c837  75a0a744-84eb-43c7-912e-b87166288535   \n",
       "4  0d2ceea7-10f6-49c6-adb8-cfff00160713  1ed2ffd6-ddc8-4abe-a3fd-285826434146   \n",
       "\n",
       "                            commodityId  size  targetProduction  \\\n",
       "0  8e6fc415-ce74-4102-822f-43cea7a5df93   0.8                 0   \n",
       "1  7b1226a9-c064-4e5d-8135-c675a160e0de     2                 0   \n",
       "2  54855fb3-414c-46d2-bca8-6a757e0419f9  1.88                 0   \n",
       "3  8e6fc415-ce74-4102-822f-43cea7a5df93  0.38                 0   \n",
       "4  fe2f87eb-acb6-4079-a298-76ad1b4b76a5     5                 0   \n",
       "\n",
       "  ownershipStatus landLegality locationHeight  ...           modifiedAt  \\\n",
       "0             NaN          NaN              0  ...  2022-03-16 09:33:12   \n",
       "1             NaN          NaN              0  ...  2021-02-26 21:25:27   \n",
       "2  Lahan Kelompok        Tidak            800  ...  2021-09-15 00:24:14   \n",
       "3             NaN          NaN              0  ...  2022-04-14 20:01:29   \n",
       "4             NaN          NaN              0  ...  2022-04-03 14:43:15   \n",
       "\n",
       "                             modifiedBy lengthUnit additionalQuestion  \\\n",
       "0  14b15574-c717-4353-8b2f-fcaf6c0a5102         ha                 []   \n",
       "1  7aa7edd0-1a2e-4156-bc1e-71c54147107e         ha                 []   \n",
       "2  215c77bb-9626-4454-8d56-9508754bec04         ha                 []   \n",
       "3  619147cb-c368-4337-ab48-03a5eb5dc5fe         ha                 []   \n",
       "4  4f499889-180c-4083-8989-a902e7782ca0         ha                 []   \n",
       "\n",
       "  farmerCode isFarmer fisheryImage       sector varietyId      insert_date_dma  \n",
       "0        NaN     True          NaN          NaN       NaN  2022-07-11 01:07:39  \n",
       "1        NaN     True          NaN  AGRICULTURE       NaN  2022-07-11 01:07:39  \n",
       "2        NaN    False          NaN  AGRICULTURE       NaN  2022-07-11 01:07:39  \n",
       "3        NaN     True          NaN          NaN       NaN  2022-07-11 01:07:39  \n",
       "4        NaN     True          NaN  AGRICULTURE       NaN  2022-07-11 01:07:39  \n",
       "\n",
       "[5 rows x 48 columns]"
      ]
     },
     "execution_count": 512,
     "metadata": {},
     "output_type": "execute_result"
    }
   ],
   "source": [
    "lands.head()"
   ]
  },
  {
   "cell_type": "code",
   "execution_count": 513,
   "id": "5205b9ab",
   "metadata": {},
   "outputs": [
    {
     "data": {
      "text/html": [
       "<div>\n",
       "<style scoped>\n",
       "    .dataframe tbody tr th:only-of-type {\n",
       "        vertical-align: middle;\n",
       "    }\n",
       "\n",
       "    .dataframe tbody tr th {\n",
       "        vertical-align: top;\n",
       "    }\n",
       "\n",
       "    .dataframe thead th {\n",
       "        text-align: right;\n",
       "    }\n",
       "</style>\n",
       "<table border=\"1\" class=\"dataframe\">\n",
       "  <thead>\n",
       "    <tr style=\"text-align: right;\">\n",
       "      <th></th>\n",
       "      <th>oid</th>\n",
       "      <th>plantingSeasonId</th>\n",
       "      <th>landId</th>\n",
       "      <th>farmerId</th>\n",
       "      <th>farmerName</th>\n",
       "      <th>mitraId</th>\n",
       "      <th>mitraName</th>\n",
       "      <th>companyId</th>\n",
       "      <th>companyName</th>\n",
       "      <th>commodityId</th>\n",
       "      <th>...</th>\n",
       "      <th>createdBy</th>\n",
       "      <th>datePreplanted</th>\n",
       "      <th>modifiedAt</th>\n",
       "      <th>budgetPlan</th>\n",
       "      <th>fishPopulation</th>\n",
       "      <th>modifiedBy</th>\n",
       "      <th>budgetPlanId</th>\n",
       "      <th>poolName</th>\n",
       "      <th>iotPartnerships</th>\n",
       "      <th>insert_date_dma</th>\n",
       "    </tr>\n",
       "  </thead>\n",
       "  <tbody>\n",
       "    <tr>\n",
       "      <th>0</th>\n",
       "      <td>6151426571c5670012ea70d5</td>\n",
       "      <td>22eaca08-9a2a-4d1f-a191-7a85e0c2f1e5</td>\n",
       "      <td>eef1460b-edf7-4a58-b30a-d6fc19b5cb47</td>\n",
       "      <td>c6c998e2-7af3-4c9e-ae4f-3253796bc4c9</td>\n",
       "      <td>Irun Runtasih</td>\n",
       "      <td>562a5387-5851-4567-af54-4b1a06e5d201</td>\n",
       "      <td>Ujang Rosadi</td>\n",
       "      <td>e1af2add-a263-4fce-a395-0dc2bcf35301</td>\n",
       "      <td>PT Mitra Desa Pamarican</td>\n",
       "      <td>fe2f87eb-acb6-4079-a298-76ad1b4b76a5</td>\n",
       "      <td>...</td>\n",
       "      <td>ae63e9bc-e319-45ce-9b2a-b3fb86e0ca76</td>\n",
       "      <td>NaN</td>\n",
       "      <td>2021-09-27 11:05:54</td>\n",
       "      <td>NaN</td>\n",
       "      <td>0</td>\n",
       "      <td>ae63e9bc-e319-45ce-9b2a-b3fb86e0ca76</td>\n",
       "      <td>NaN</td>\n",
       "      <td>NaN</td>\n",
       "      <td>NaN</td>\n",
       "      <td>2022-07-11 01:08:03</td>\n",
       "    </tr>\n",
       "    <tr>\n",
       "      <th>1</th>\n",
       "      <td>6258299dd1db5d0011fd17ab</td>\n",
       "      <td>45b988a7-cbac-4a7d-939f-e0818bf05701</td>\n",
       "      <td>98138ca4-8d34-4b84-8cb5-f85c7b473e17</td>\n",
       "      <td>68df3f38-7911-4832-930c-03928a899489</td>\n",
       "      <td>inaq hazura</td>\n",
       "      <td>b0ba059d-4054-44c8-adb5-23f8bdc30f18</td>\n",
       "      <td>inaq hazura</td>\n",
       "      <td>e4844fc8-04db-413d-9869-ebbacfc36185</td>\n",
       "      <td>Rinjani Mandiri</td>\n",
       "      <td>8e6fc415-ce74-4102-822f-43cea7a5df93</td>\n",
       "      <td>...</td>\n",
       "      <td>803a6757-40bf-4293-bcfb-f5795bbb74bb</td>\n",
       "      <td>NaN</td>\n",
       "      <td>NaN</td>\n",
       "      <td>NaN</td>\n",
       "      <td>0</td>\n",
       "      <td>NaN</td>\n",
       "      <td>NaN</td>\n",
       "      <td>NaN</td>\n",
       "      <td>NaN</td>\n",
       "      <td>2022-07-11 01:08:03</td>\n",
       "    </tr>\n",
       "    <tr>\n",
       "      <th>2</th>\n",
       "      <td>623191e441fee8001227a5de</td>\n",
       "      <td>465d45ea-b718-4a8f-8b07-3ac450f18c1c</td>\n",
       "      <td>9fae2fb7-9ed5-43a7-bed2-b971dcd700f1</td>\n",
       "      <td>95759041-c692-477a-8a65-8e51be876d58</td>\n",
       "      <td>Edah</td>\n",
       "      <td>33749ea0-c4f3-4d33-84a3-22ad5040c065</td>\n",
       "      <td>Edah</td>\n",
       "      <td>e1af2add-a263-4fce-a395-0dc2bcf35301</td>\n",
       "      <td>PT Mitra Desa Pamarican</td>\n",
       "      <td>fe2f87eb-acb6-4079-a298-76ad1b4b76a5</td>\n",
       "      <td>...</td>\n",
       "      <td>0a2462bb-848c-4869-95e0-fd1c755a8819</td>\n",
       "      <td>NaN</td>\n",
       "      <td>2022-03-16 14:30:45</td>\n",
       "      <td>NaN</td>\n",
       "      <td>0</td>\n",
       "      <td>0a2462bb-848c-4869-95e0-fd1c755a8819</td>\n",
       "      <td>NaN</td>\n",
       "      <td>NaN</td>\n",
       "      <td>NaN</td>\n",
       "      <td>2022-07-11 01:08:03</td>\n",
       "    </tr>\n",
       "    <tr>\n",
       "      <th>3</th>\n",
       "      <td>61a45c677795390012f27c02</td>\n",
       "      <td>4789f721-2e84-4cf7-8b65-65a6e9c3c99c</td>\n",
       "      <td>82f58519-93bd-464a-abc1-d592080460e8</td>\n",
       "      <td>1c0f3fd5-7d20-46b0-a137-3b8db418a92f</td>\n",
       "      <td>M Ichsan S</td>\n",
       "      <td>d6010fd5-5550-417b-ad66-33da67891f0c</td>\n",
       "      <td>Nanda Budi Prayuga</td>\n",
       "      <td>85ec0c86-7192-41fd-9a6e-08f14418758c</td>\n",
       "      <td>JIFSI</td>\n",
       "      <td>2b3058ef-2985-4f20-8b24-56f4ed7d4095</td>\n",
       "      <td>...</td>\n",
       "      <td>79e7023f-f280-45ab-83b1-098a6e69e961</td>\n",
       "      <td>NaN</td>\n",
       "      <td>2021-12-16 14:28:54</td>\n",
       "      <td>NaN</td>\n",
       "      <td>0</td>\n",
       "      <td>79e7023f-f280-45ab-83b1-098a6e69e961</td>\n",
       "      <td>NaN</td>\n",
       "      <td>NaN</td>\n",
       "      <td>NaN</td>\n",
       "      <td>2022-07-11 01:08:03</td>\n",
       "    </tr>\n",
       "    <tr>\n",
       "      <th>4</th>\n",
       "      <td>61b9c0d2ee33560013579d77</td>\n",
       "      <td>482ae819-caa5-45d3-8b88-5c64293469f2</td>\n",
       "      <td>a11c1aa8-a344-4e43-9c18-5d3ad38092ea</td>\n",
       "      <td>b09b5794-f8ff-473b-8487-d5d787d2ada0</td>\n",
       "      <td>MUSIP</td>\n",
       "      <td>ec82f13d-27a5-4340-93c5-b2a7c70d5b25</td>\n",
       "      <td>MUSIP</td>\n",
       "      <td>e4844fc8-04db-413d-9869-ebbacfc36185</td>\n",
       "      <td>Rinjani Mandiri</td>\n",
       "      <td>712e3921-8b88-48af-9db4-adcb2917d2de</td>\n",
       "      <td>...</td>\n",
       "      <td>04712151-3ac2-4a1c-8008-e1653582de3e</td>\n",
       "      <td>NaN</td>\n",
       "      <td>NaN</td>\n",
       "      <td>NaN</td>\n",
       "      <td>0</td>\n",
       "      <td>NaN</td>\n",
       "      <td>NaN</td>\n",
       "      <td>NaN</td>\n",
       "      <td>NaN</td>\n",
       "      <td>2022-07-11 01:08:03</td>\n",
       "    </tr>\n",
       "  </tbody>\n",
       "</table>\n",
       "<p>5 rows × 40 columns</p>\n",
       "</div>"
      ],
      "text/plain": [
       "                        oid                      plantingSeasonId  \\\n",
       "0  6151426571c5670012ea70d5  22eaca08-9a2a-4d1f-a191-7a85e0c2f1e5   \n",
       "1  6258299dd1db5d0011fd17ab  45b988a7-cbac-4a7d-939f-e0818bf05701   \n",
       "2  623191e441fee8001227a5de  465d45ea-b718-4a8f-8b07-3ac450f18c1c   \n",
       "3  61a45c677795390012f27c02  4789f721-2e84-4cf7-8b65-65a6e9c3c99c   \n",
       "4  61b9c0d2ee33560013579d77  482ae819-caa5-45d3-8b88-5c64293469f2   \n",
       "\n",
       "                                 landId                              farmerId  \\\n",
       "0  eef1460b-edf7-4a58-b30a-d6fc19b5cb47  c6c998e2-7af3-4c9e-ae4f-3253796bc4c9   \n",
       "1  98138ca4-8d34-4b84-8cb5-f85c7b473e17  68df3f38-7911-4832-930c-03928a899489   \n",
       "2  9fae2fb7-9ed5-43a7-bed2-b971dcd700f1  95759041-c692-477a-8a65-8e51be876d58   \n",
       "3  82f58519-93bd-464a-abc1-d592080460e8  1c0f3fd5-7d20-46b0-a137-3b8db418a92f   \n",
       "4  a11c1aa8-a344-4e43-9c18-5d3ad38092ea  b09b5794-f8ff-473b-8487-d5d787d2ada0   \n",
       "\n",
       "      farmerName                               mitraId           mitraName  \\\n",
       "0  Irun Runtasih  562a5387-5851-4567-af54-4b1a06e5d201        Ujang Rosadi   \n",
       "1    inaq hazura  b0ba059d-4054-44c8-adb5-23f8bdc30f18         inaq hazura   \n",
       "2           Edah  33749ea0-c4f3-4d33-84a3-22ad5040c065                Edah   \n",
       "3     M Ichsan S  d6010fd5-5550-417b-ad66-33da67891f0c  Nanda Budi Prayuga   \n",
       "4          MUSIP  ec82f13d-27a5-4340-93c5-b2a7c70d5b25               MUSIP   \n",
       "\n",
       "                              companyId              companyName  \\\n",
       "0  e1af2add-a263-4fce-a395-0dc2bcf35301  PT Mitra Desa Pamarican   \n",
       "1  e4844fc8-04db-413d-9869-ebbacfc36185          Rinjani Mandiri   \n",
       "2  e1af2add-a263-4fce-a395-0dc2bcf35301  PT Mitra Desa Pamarican   \n",
       "3  85ec0c86-7192-41fd-9a6e-08f14418758c                    JIFSI   \n",
       "4  e4844fc8-04db-413d-9869-ebbacfc36185          Rinjani Mandiri   \n",
       "\n",
       "                            commodityId  ...  \\\n",
       "0  fe2f87eb-acb6-4079-a298-76ad1b4b76a5  ...   \n",
       "1  8e6fc415-ce74-4102-822f-43cea7a5df93  ...   \n",
       "2  fe2f87eb-acb6-4079-a298-76ad1b4b76a5  ...   \n",
       "3  2b3058ef-2985-4f20-8b24-56f4ed7d4095  ...   \n",
       "4  712e3921-8b88-48af-9db4-adcb2917d2de  ...   \n",
       "\n",
       "                              createdBy  datePreplanted           modifiedAt  \\\n",
       "0  ae63e9bc-e319-45ce-9b2a-b3fb86e0ca76             NaN  2021-09-27 11:05:54   \n",
       "1  803a6757-40bf-4293-bcfb-f5795bbb74bb             NaN                  NaN   \n",
       "2  0a2462bb-848c-4869-95e0-fd1c755a8819             NaN  2022-03-16 14:30:45   \n",
       "3  79e7023f-f280-45ab-83b1-098a6e69e961             NaN  2021-12-16 14:28:54   \n",
       "4  04712151-3ac2-4a1c-8008-e1653582de3e             NaN                  NaN   \n",
       "\n",
       "  budgetPlan  fishPopulation                            modifiedBy  \\\n",
       "0        NaN               0  ae63e9bc-e319-45ce-9b2a-b3fb86e0ca76   \n",
       "1        NaN               0                                   NaN   \n",
       "2        NaN               0  0a2462bb-848c-4869-95e0-fd1c755a8819   \n",
       "3        NaN               0  79e7023f-f280-45ab-83b1-098a6e69e961   \n",
       "4        NaN               0                                   NaN   \n",
       "\n",
       "  budgetPlanId poolName iotPartnerships      insert_date_dma  \n",
       "0          NaN      NaN             NaN  2022-07-11 01:08:03  \n",
       "1          NaN      NaN             NaN  2022-07-11 01:08:03  \n",
       "2          NaN      NaN             NaN  2022-07-11 01:08:03  \n",
       "3          NaN      NaN             NaN  2022-07-11 01:08:03  \n",
       "4          NaN      NaN             NaN  2022-07-11 01:08:03  \n",
       "\n",
       "[5 rows x 40 columns]"
      ]
     },
     "execution_count": 513,
     "metadata": {},
     "output_type": "execute_result"
    }
   ],
   "source": [
    "season.head()"
   ]
  },
  {
   "cell_type": "code",
   "execution_count": 514,
   "id": "b92efeb0",
   "metadata": {
    "scrolled": true
   },
   "outputs": [
    {
     "data": {
      "text/html": [
       "<div>\n",
       "<style scoped>\n",
       "    .dataframe tbody tr th:only-of-type {\n",
       "        vertical-align: middle;\n",
       "    }\n",
       "\n",
       "    .dataframe tbody tr th {\n",
       "        vertical-align: top;\n",
       "    }\n",
       "\n",
       "    .dataframe thead th {\n",
       "        text-align: right;\n",
       "    }\n",
       "</style>\n",
       "<table border=\"1\" class=\"dataframe\">\n",
       "  <thead>\n",
       "    <tr style=\"text-align: right;\">\n",
       "      <th></th>\n",
       "      <th>oid</th>\n",
       "      <th>commodityId</th>\n",
       "      <th>dateTime</th>\n",
       "      <th>farmerId</th>\n",
       "      <th>fertilize</th>\n",
       "      <th>harvestId</th>\n",
       "      <th>harvestPlan</th>\n",
       "      <th>incident</th>\n",
       "      <th>isActive</th>\n",
       "      <th>landCode</th>\n",
       "      <th>...</th>\n",
       "      <th>modifiedAt</th>\n",
       "      <th>modifiedBy</th>\n",
       "      <th>descriptionByFA</th>\n",
       "      <th>fieldAssistant</th>\n",
       "      <th>fieldAssistantId</th>\n",
       "      <th>isSurvey</th>\n",
       "      <th>images</th>\n",
       "      <th>code</th>\n",
       "      <th>ratings</th>\n",
       "      <th>insert_date_dma</th>\n",
       "    </tr>\n",
       "  </thead>\n",
       "  <tbody>\n",
       "    <tr>\n",
       "      <th>0</th>\n",
       "      <td>6295c0e56d11f700125a11b2</td>\n",
       "      <td>27f42578-5dc7-46c7-9468-4e5caca9269e</td>\n",
       "      <td>2022-04-11 07:31:00</td>\n",
       "      <td>f155f507-89fd-46bb-b2d7-79a373dccf8a</td>\n",
       "      <td>[]</td>\n",
       "      <td>67f0a579-433b-4c7b-8d39-297ac6919147</td>\n",
       "      <td>{}</td>\n",
       "      <td>[]</td>\n",
       "      <td>True</td>\n",
       "      <td>M77519022022</td>\n",
       "      <td>...</td>\n",
       "      <td>NaN</td>\n",
       "      <td>NaN</td>\n",
       "      <td>NaN</td>\n",
       "      <td>NaN</td>\n",
       "      <td>NaN</td>\n",
       "      <td>NaN</td>\n",
       "      <td>[]</td>\n",
       "      <td>4.0</td>\n",
       "      <td>{}</td>\n",
       "      <td>2022-07-11 01:07:51</td>\n",
       "    </tr>\n",
       "    <tr>\n",
       "      <th>1</th>\n",
       "      <td>61bd04921cd72900127c5c0c</td>\n",
       "      <td>2b3058ef-2985-4f20-8b24-56f4ed7d4095</td>\n",
       "      <td>NaN</td>\n",
       "      <td>1c0f3fd5-7d20-46b0-a137-3b8db418a92f</td>\n",
       "      <td>[]</td>\n",
       "      <td>53e27a15-8ebf-45a9-9f4d-f1dd2451d989</td>\n",
       "      <td>{}</td>\n",
       "      <td>[]</td>\n",
       "      <td>False</td>\n",
       "      <td>J5318122021</td>\n",
       "      <td>...</td>\n",
       "      <td>NaN</td>\n",
       "      <td>NaN</td>\n",
       "      <td>NaN</td>\n",
       "      <td>NaN</td>\n",
       "      <td>NaN</td>\n",
       "      <td>NaN</td>\n",
       "      <td>{}</td>\n",
       "      <td>NaN</td>\n",
       "      <td>{}</td>\n",
       "      <td>2022-07-11 01:07:51</td>\n",
       "    </tr>\n",
       "    <tr>\n",
       "      <th>2</th>\n",
       "      <td>61c565120ee8cb0012c8b8b7</td>\n",
       "      <td>2b3058ef-2985-4f20-8b24-56f4ed7d4095</td>\n",
       "      <td>NaN</td>\n",
       "      <td>713e74d9-5d79-4a3f-ab13-ebc652f8ab20</td>\n",
       "      <td>[]</td>\n",
       "      <td>eb7b7dd0-3c24-41bc-873b-880ace4c9510</td>\n",
       "      <td>{}</td>\n",
       "      <td>[]</td>\n",
       "      <td>False</td>\n",
       "      <td>J6424122021</td>\n",
       "      <td>...</td>\n",
       "      <td>NaN</td>\n",
       "      <td>NaN</td>\n",
       "      <td>NaN</td>\n",
       "      <td>NaN</td>\n",
       "      <td>NaN</td>\n",
       "      <td>NaN</td>\n",
       "      <td>{}</td>\n",
       "      <td>NaN</td>\n",
       "      <td>{}</td>\n",
       "      <td>2022-07-11 01:07:51</td>\n",
       "    </tr>\n",
       "    <tr>\n",
       "      <th>3</th>\n",
       "      <td>616553a01cd93c001277cda1</td>\n",
       "      <td>36be8938-189e-47b2-8eb0-1df6660fa79b</td>\n",
       "      <td>NaN</td>\n",
       "      <td>548102f5-c0d4-4bca-b20f-a0329a86f739</td>\n",
       "      <td>[]</td>\n",
       "      <td>6770cedb-623a-431f-aef7-2a3a80021ae2</td>\n",
       "      <td>{}</td>\n",
       "      <td>[]</td>\n",
       "      <td>False</td>\n",
       "      <td>K13212102021</td>\n",
       "      <td>...</td>\n",
       "      <td>NaN</td>\n",
       "      <td>NaN</td>\n",
       "      <td>NaN</td>\n",
       "      <td>NaN</td>\n",
       "      <td>NaN</td>\n",
       "      <td>NaN</td>\n",
       "      <td>{}</td>\n",
       "      <td>NaN</td>\n",
       "      <td>{}</td>\n",
       "      <td>2022-07-11 01:07:51</td>\n",
       "    </tr>\n",
       "    <tr>\n",
       "      <th>4</th>\n",
       "      <td>61948ac403ea13001234a389</td>\n",
       "      <td>36be8938-189e-47b2-8eb0-1df6660fa79b</td>\n",
       "      <td>NaN</td>\n",
       "      <td>53538bb2-066f-4e38-8a13-c05e1a3bea8e</td>\n",
       "      <td>[]</td>\n",
       "      <td>d1178adf-30ad-47ae-86bb-52b26ca56d5c</td>\n",
       "      <td>{}</td>\n",
       "      <td>[]</td>\n",
       "      <td>False</td>\n",
       "      <td>K54717112021</td>\n",
       "      <td>...</td>\n",
       "      <td>NaN</td>\n",
       "      <td>NaN</td>\n",
       "      <td>NaN</td>\n",
       "      <td>NaN</td>\n",
       "      <td>NaN</td>\n",
       "      <td>NaN</td>\n",
       "      <td>{}</td>\n",
       "      <td>NaN</td>\n",
       "      <td>{}</td>\n",
       "      <td>2022-07-11 01:07:51</td>\n",
       "    </tr>\n",
       "  </tbody>\n",
       "</table>\n",
       "<p>5 rows × 36 columns</p>\n",
       "</div>"
      ],
      "text/plain": [
       "                        oid                           commodityId  \\\n",
       "0  6295c0e56d11f700125a11b2  27f42578-5dc7-46c7-9468-4e5caca9269e   \n",
       "1  61bd04921cd72900127c5c0c  2b3058ef-2985-4f20-8b24-56f4ed7d4095   \n",
       "2  61c565120ee8cb0012c8b8b7  2b3058ef-2985-4f20-8b24-56f4ed7d4095   \n",
       "3  616553a01cd93c001277cda1  36be8938-189e-47b2-8eb0-1df6660fa79b   \n",
       "4  61948ac403ea13001234a389  36be8938-189e-47b2-8eb0-1df6660fa79b   \n",
       "\n",
       "              dateTime                              farmerId fertilize  \\\n",
       "0  2022-04-11 07:31:00  f155f507-89fd-46bb-b2d7-79a373dccf8a        []   \n",
       "1                  NaN  1c0f3fd5-7d20-46b0-a137-3b8db418a92f        []   \n",
       "2                  NaN  713e74d9-5d79-4a3f-ab13-ebc652f8ab20        []   \n",
       "3                  NaN  548102f5-c0d4-4bca-b20f-a0329a86f739        []   \n",
       "4                  NaN  53538bb2-066f-4e38-8a13-c05e1a3bea8e        []   \n",
       "\n",
       "                              harvestId harvestPlan incident  isActive  \\\n",
       "0  67f0a579-433b-4c7b-8d39-297ac6919147          {}       []      True   \n",
       "1  53e27a15-8ebf-45a9-9f4d-f1dd2451d989          {}       []     False   \n",
       "2  eb7b7dd0-3c24-41bc-873b-880ace4c9510          {}       []     False   \n",
       "3  6770cedb-623a-431f-aef7-2a3a80021ae2          {}       []     False   \n",
       "4  d1178adf-30ad-47ae-86bb-52b26ca56d5c          {}       []     False   \n",
       "\n",
       "       landCode  ... modifiedAt modifiedBy descriptionByFA  fieldAssistant  \\\n",
       "0  M77519022022  ...        NaN        NaN             NaN             NaN   \n",
       "1   J5318122021  ...        NaN        NaN             NaN             NaN   \n",
       "2   J6424122021  ...        NaN        NaN             NaN             NaN   \n",
       "3  K13212102021  ...        NaN        NaN             NaN             NaN   \n",
       "4  K54717112021  ...        NaN        NaN             NaN             NaN   \n",
       "\n",
       "  fieldAssistantId isSurvey images code ratings      insert_date_dma  \n",
       "0              NaN      NaN     []  4.0      {}  2022-07-11 01:07:51  \n",
       "1              NaN      NaN     {}  NaN      {}  2022-07-11 01:07:51  \n",
       "2              NaN      NaN     {}  NaN      {}  2022-07-11 01:07:51  \n",
       "3              NaN      NaN     {}  NaN      {}  2022-07-11 01:07:51  \n",
       "4              NaN      NaN     {}  NaN      {}  2022-07-11 01:07:51  \n",
       "\n",
       "[5 rows x 36 columns]"
      ]
     },
     "execution_count": 514,
     "metadata": {},
     "output_type": "execute_result"
    }
   ],
   "source": [
    "harvest.head()"
   ]
  },
  {
   "cell_type": "markdown",
   "id": "a6ec5dc9",
   "metadata": {},
   "source": [
    "# EKSPLORING DATASET"
   ]
  },
  {
   "cell_type": "code",
   "execution_count": null,
   "id": "9203da19",
   "metadata": {},
   "outputs": [],
   "source": []
  },
  {
   "cell_type": "code",
   "execution_count": 515,
   "id": "8d9e18c3",
   "metadata": {},
   "outputs": [
    {
     "data": {
      "text/plain": [
       "((200, 48), (279, 40), (420, 36))"
      ]
     },
     "execution_count": 515,
     "metadata": {},
     "output_type": "execute_result"
    }
   ],
   "source": [
    "lands.shape, season.shape, harvest.shape"
   ]
  },
  {
   "cell_type": "code",
   "execution_count": 516,
   "id": "c52d32cc",
   "metadata": {},
   "outputs": [
    {
     "name": "stdout",
     "output_type": "stream",
     "text": [
      "<class 'pandas.core.frame.DataFrame'>\n",
      "RangeIndex: 200 entries, 0 to 199\n",
      "Data columns (total 48 columns):\n",
      " #   Column                 Non-Null Count  Dtype  \n",
      "---  ------                 --------------  -----  \n",
      " 0   oid                    200 non-null    object \n",
      " 1   landId                 200 non-null    object \n",
      " 2   mitraId                200 non-null    object \n",
      " 3   farmerId               200 non-null    object \n",
      " 4   commodityId            200 non-null    object \n",
      " 5   size                   200 non-null    object \n",
      " 6   targetProduction       200 non-null    int64  \n",
      " 7   ownershipStatus        52 non-null     object \n",
      " 8   landLegality           22 non-null     object \n",
      " 9   locationHeight         200 non-null    object \n",
      " 10  typeOfSoil             29 non-null     object \n",
      " 11  landSlope              24 non-null     object \n",
      " 12  vegetationCover        34 non-null     object \n",
      " 13  waterSources           42 non-null     object \n",
      " 14  infrastructureAccess   200 non-null    object \n",
      " 15  financing              43 non-null     object \n",
      " 16  distanceToRoad         200 non-null    object \n",
      " 17  isSuitable             200 non-null    bool   \n",
      " 18  description            197 non-null    object \n",
      " 19  coordinate             200 non-null    object \n",
      " 20  populationPotential    200 non-null    object \n",
      " 21  productionPotential    200 non-null    int64  \n",
      " 22  rainfall               200 non-null    object \n",
      " 23  pH                     200 non-null    int64  \n",
      " 24  structure              14 non-null     object \n",
      " 25  texture                15 non-null     object \n",
      " 26  location               197 non-null    object \n",
      " 27  address                200 non-null    object \n",
      " 28  image                  200 non-null    object \n",
      " 29  document               200 non-null    object \n",
      " 30  farmerName             200 non-null    object \n",
      " 31  farmerImage            200 non-null    object \n",
      " 32  commodityName          200 non-null    object \n",
      " 33  plantingSeason         200 non-null    object \n",
      " 34  realizationSize        200 non-null    float64\n",
      " 35  realizationProduction  200 non-null    object \n",
      " 36  createdAt              200 non-null    object \n",
      " 37  createdBy              200 non-null    object \n",
      " 38  modifiedAt             200 non-null    object \n",
      " 39  modifiedBy             200 non-null    object \n",
      " 40  lengthUnit             197 non-null    object \n",
      " 41  additionalQuestion     200 non-null    object \n",
      " 42  farmerCode             0 non-null      float64\n",
      " 43  isFarmer               186 non-null    object \n",
      " 44  fisheryImage           14 non-null     object \n",
      " 45  sector                 103 non-null    object \n",
      " 46  varietyId              3 non-null      object \n",
      " 47  insert_date_dma        200 non-null    object \n",
      "dtypes: bool(1), float64(2), int64(3), object(42)\n",
      "memory usage: 73.8+ KB\n"
     ]
    }
   ],
   "source": [
    "lands.info()"
   ]
  },
  {
   "cell_type": "code",
   "execution_count": 517,
   "id": "34ddc23e",
   "metadata": {},
   "outputs": [
    {
     "name": "stdout",
     "output_type": "stream",
     "text": [
      "<class 'pandas.core.frame.DataFrame'>\n",
      "RangeIndex: 279 entries, 0 to 278\n",
      "Data columns (total 40 columns):\n",
      " #   Column                Non-Null Count  Dtype  \n",
      "---  ------                --------------  -----  \n",
      " 0   oid                   279 non-null    object \n",
      " 1   plantingSeasonId      279 non-null    object \n",
      " 2   landId                279 non-null    object \n",
      " 3   farmerId              279 non-null    object \n",
      " 4   farmerName            279 non-null    object \n",
      " 5   mitraId               279 non-null    object \n",
      " 6   mitraName             279 non-null    object \n",
      " 7   companyId             278 non-null    object \n",
      " 8   companyName           278 non-null    object \n",
      " 9   commodityId           279 non-null    object \n",
      " 10  commodityName         279 non-null    object \n",
      " 11  size                  279 non-null    float64\n",
      " 12  location              279 non-null    object \n",
      " 13  villageId             14 non-null     object \n",
      " 14  targetProduction      279 non-null    int64  \n",
      " 15  phase                 279 non-null    object \n",
      " 16  incidentCategory      279 non-null    object \n",
      " 17  fertilizeCategory     279 non-null    object \n",
      " 18  landCode              279 non-null    object \n",
      " 19  timeLine              279 non-null    object \n",
      " 20  dateTimeLine          279 non-null    object \n",
      " 21  activities            279 non-null    object \n",
      " 22  activitiesCommodity   279 non-null    object \n",
      " 23  isActive              279 non-null    bool   \n",
      " 24  order                 279 non-null    object \n",
      " 25  varietyId             171 non-null    object \n",
      " 26  varietyName           171 non-null    object \n",
      " 27  datePlanted           169 non-null    object \n",
      " 28  populationSuggestion  279 non-null    object \n",
      " 29  createdAt             279 non-null    object \n",
      " 30  createdBy             279 non-null    object \n",
      " 31  datePreplanted        0 non-null      float64\n",
      " 32  modifiedAt            181 non-null    object \n",
      " 33  budgetPlan            0 non-null      float64\n",
      " 34  fishPopulation        279 non-null    object \n",
      " 35  modifiedBy            181 non-null    object \n",
      " 36  budgetPlanId          4 non-null      object \n",
      " 37  poolName              5 non-null      object \n",
      " 38  iotPartnerships       5 non-null      object \n",
      " 39  insert_date_dma       279 non-null    object \n",
      "dtypes: bool(1), float64(3), int64(1), object(35)\n",
      "memory usage: 85.4+ KB\n"
     ]
    }
   ],
   "source": [
    "season.info()"
   ]
  },
  {
   "cell_type": "code",
   "execution_count": 518,
   "id": "f9ea9d36",
   "metadata": {},
   "outputs": [
    {
     "name": "stdout",
     "output_type": "stream",
     "text": [
      "<class 'pandas.core.frame.DataFrame'>\n",
      "RangeIndex: 420 entries, 0 to 419\n",
      "Data columns (total 36 columns):\n",
      " #   Column            Non-Null Count  Dtype  \n",
      "---  ------            --------------  -----  \n",
      " 0   oid               420 non-null    object \n",
      " 1   commodityId       420 non-null    object \n",
      " 2   dateTime          231 non-null    object \n",
      " 3   farmerId          420 non-null    object \n",
      " 4   fertilize         420 non-null    object \n",
      " 5   harvestId         420 non-null    object \n",
      " 6   harvestPlan       420 non-null    object \n",
      " 7   incident          420 non-null    object \n",
      " 8   isActive          420 non-null    bool   \n",
      " 9   landCode          420 non-null    object \n",
      " 10  landId            420 non-null    object \n",
      " 11  mitraId           420 non-null    object \n",
      " 12  name              420 non-null    object \n",
      " 13  order             420 non-null    int64  \n",
      " 14  plantingSeasonId  420 non-null    object \n",
      " 15  population        420 non-null    object \n",
      " 16  production        420 non-null    object \n",
      " 17  status            420 non-null    object \n",
      " 18  commodityName     420 non-null    object \n",
      " 19  farmerName        420 non-null    object \n",
      " 20  mitraName         420 non-null    object \n",
      " 21  createdAt         231 non-null    object \n",
      " 22  createdBy         231 non-null    object \n",
      " 23  repeat            231 non-null    object \n",
      " 24  varietyId         230 non-null    object \n",
      " 25  varietyName       230 non-null    object \n",
      " 26  modifiedAt        4 non-null      object \n",
      " 27  modifiedBy        4 non-null      object \n",
      " 28  descriptionByFA   0 non-null      float64\n",
      " 29  fieldAssistant    0 non-null      float64\n",
      " 30  fieldAssistantId  0 non-null      float64\n",
      " 31  isSurvey          0 non-null      float64\n",
      " 32  images            420 non-null    object \n",
      " 33  code              224 non-null    float64\n",
      " 34  ratings           420 non-null    object \n",
      " 35  insert_date_dma   420 non-null    object \n",
      "dtypes: bool(1), float64(5), int64(1), object(29)\n",
      "memory usage: 115.4+ KB\n"
     ]
    }
   ],
   "source": [
    "harvest.info()"
   ]
  },
  {
   "cell_type": "code",
   "execution_count": 519,
   "id": "0640f32d",
   "metadata": {},
   "outputs": [
    {
     "data": {
      "text/html": [
       "<div>\n",
       "<style scoped>\n",
       "    .dataframe tbody tr th:only-of-type {\n",
       "        vertical-align: middle;\n",
       "    }\n",
       "\n",
       "    .dataframe tbody tr th {\n",
       "        vertical-align: top;\n",
       "    }\n",
       "\n",
       "    .dataframe thead th {\n",
       "        text-align: right;\n",
       "    }\n",
       "</style>\n",
       "<table border=\"1\" class=\"dataframe\">\n",
       "  <thead>\n",
       "    <tr style=\"text-align: right;\">\n",
       "      <th></th>\n",
       "      <th>oid</th>\n",
       "      <th>landId</th>\n",
       "      <th>mitraId</th>\n",
       "      <th>farmerId</th>\n",
       "      <th>commodityId</th>\n",
       "      <th>size</th>\n",
       "      <th>targetProduction</th>\n",
       "      <th>ownershipStatus</th>\n",
       "      <th>landLegality</th>\n",
       "      <th>locationHeight</th>\n",
       "      <th>...</th>\n",
       "      <th>modifiedAt</th>\n",
       "      <th>modifiedBy</th>\n",
       "      <th>lengthUnit</th>\n",
       "      <th>additionalQuestion</th>\n",
       "      <th>farmerCode</th>\n",
       "      <th>isFarmer</th>\n",
       "      <th>fisheryImage</th>\n",
       "      <th>sector</th>\n",
       "      <th>varietyId</th>\n",
       "      <th>insert_date_dma</th>\n",
       "    </tr>\n",
       "  </thead>\n",
       "  <tbody>\n",
       "    <tr>\n",
       "      <th>58</th>\n",
       "      <td>61ca71a077f5a80012dbfb71</td>\n",
       "      <td>565ac044-57df-4879-8fbe-556e4f422600</td>\n",
       "      <td>b0f0e582-55ea-45b9-896f-d4f501240b0c</td>\n",
       "      <td>2e3fa163-4aed-4b91-8af4-eca4b13e8177</td>\n",
       "      <td>8e6fc415-ce74-4102-822f-43cea7a5df93</td>\n",
       "      <td>0.35</td>\n",
       "      <td>0</td>\n",
       "      <td>NaN</td>\n",
       "      <td>NaN</td>\n",
       "      <td>0</td>\n",
       "      <td>...</td>\n",
       "      <td>2021-12-28 13:50:31</td>\n",
       "      <td>a6b3877f-dad9-47e0-94cc-41708c5a9718</td>\n",
       "      <td>ha</td>\n",
       "      <td>[]</td>\n",
       "      <td>NaN</td>\n",
       "      <td>True</td>\n",
       "      <td>NaN</td>\n",
       "      <td>NaN</td>\n",
       "      <td>NaN</td>\n",
       "      <td>2022-07-11 01:07:39</td>\n",
       "    </tr>\n",
       "  </tbody>\n",
       "</table>\n",
       "<p>1 rows × 48 columns</p>\n",
       "</div>"
      ],
      "text/plain": [
       "                         oid                                landId  \\\n",
       "58  61ca71a077f5a80012dbfb71  565ac044-57df-4879-8fbe-556e4f422600   \n",
       "\n",
       "                                 mitraId  \\\n",
       "58  b0f0e582-55ea-45b9-896f-d4f501240b0c   \n",
       "\n",
       "                                farmerId  \\\n",
       "58  2e3fa163-4aed-4b91-8af4-eca4b13e8177   \n",
       "\n",
       "                             commodityId  size  targetProduction  \\\n",
       "58  8e6fc415-ce74-4102-822f-43cea7a5df93  0.35                 0   \n",
       "\n",
       "   ownershipStatus landLegality locationHeight  ...           modifiedAt  \\\n",
       "58             NaN          NaN              0  ...  2021-12-28 13:50:31   \n",
       "\n",
       "                              modifiedBy lengthUnit additionalQuestion  \\\n",
       "58  a6b3877f-dad9-47e0-94cc-41708c5a9718         ha                 []   \n",
       "\n",
       "   farmerCode isFarmer fisheryImage  sector varietyId      insert_date_dma  \n",
       "58        NaN     True          NaN     NaN       NaN  2022-07-11 01:07:39  \n",
       "\n",
       "[1 rows x 48 columns]"
      ]
     },
     "execution_count": 519,
     "metadata": {},
     "output_type": "execute_result"
    }
   ],
   "source": [
    "lands.sample()"
   ]
  },
  {
   "cell_type": "code",
   "execution_count": 520,
   "id": "0ad14ce5",
   "metadata": {},
   "outputs": [
    {
     "data": {
      "text/plain": [
       "200"
      ]
     },
     "execution_count": 520,
     "metadata": {},
     "output_type": "execute_result"
    }
   ],
   "source": [
    "lands.oid.nunique()"
   ]
  },
  {
   "cell_type": "code",
   "execution_count": 521,
   "id": "84e02f88",
   "metadata": {},
   "outputs": [
    {
     "data": {
      "text/plain": [
       "200"
      ]
     },
     "execution_count": 521,
     "metadata": {},
     "output_type": "execute_result"
    }
   ],
   "source": [
    "lands.landId.nunique()"
   ]
  },
  {
   "cell_type": "markdown",
   "id": "ff00c8f8",
   "metadata": {},
   "source": [
    "Terlihat pada data `lands` tidak ada oid atau landId yang duplikat, artinya kemungkinan setiap baris sudah mewakili satu individu atau lahan"
   ]
  },
  {
   "cell_type": "code",
   "execution_count": 522,
   "id": "212b5aa9",
   "metadata": {},
   "outputs": [
    {
     "data": {
      "text/html": [
       "<div>\n",
       "<style scoped>\n",
       "    .dataframe tbody tr th:only-of-type {\n",
       "        vertical-align: middle;\n",
       "    }\n",
       "\n",
       "    .dataframe tbody tr th {\n",
       "        vertical-align: top;\n",
       "    }\n",
       "\n",
       "    .dataframe thead th {\n",
       "        text-align: right;\n",
       "    }\n",
       "</style>\n",
       "<table border=\"1\" class=\"dataframe\">\n",
       "  <thead>\n",
       "    <tr style=\"text-align: right;\">\n",
       "      <th></th>\n",
       "      <th>oid</th>\n",
       "      <th>plantingSeasonId</th>\n",
       "      <th>landId</th>\n",
       "      <th>farmerId</th>\n",
       "      <th>farmerName</th>\n",
       "      <th>mitraId</th>\n",
       "      <th>mitraName</th>\n",
       "      <th>companyId</th>\n",
       "      <th>companyName</th>\n",
       "      <th>commodityId</th>\n",
       "      <th>...</th>\n",
       "      <th>createdBy</th>\n",
       "      <th>datePreplanted</th>\n",
       "      <th>modifiedAt</th>\n",
       "      <th>budgetPlan</th>\n",
       "      <th>fishPopulation</th>\n",
       "      <th>modifiedBy</th>\n",
       "      <th>budgetPlanId</th>\n",
       "      <th>poolName</th>\n",
       "      <th>iotPartnerships</th>\n",
       "      <th>insert_date_dma</th>\n",
       "    </tr>\n",
       "  </thead>\n",
       "  <tbody>\n",
       "    <tr>\n",
       "      <th>231</th>\n",
       "      <td>61893af54d71eb001296a8d1</td>\n",
       "      <td>5178ff25-5cd6-4f3b-aed8-b8097c7be77e</td>\n",
       "      <td>ec5dfa68-35c5-4d7e-82d0-36484c51114d</td>\n",
       "      <td>b7c896e1-a92f-47bd-bf99-1f69e7799cde</td>\n",
       "      <td>aa hidayat</td>\n",
       "      <td>4e16c737-7df6-464a-a314-78a13291e66e</td>\n",
       "      <td>aa hidayat</td>\n",
       "      <td>ea2b9c3e-4933-4768-939c-f914ce762e3a</td>\n",
       "      <td>Kramat Farm</td>\n",
       "      <td>ac70796a-9d3a-48d7-b7cb-7b347343f94e</td>\n",
       "      <td>...</td>\n",
       "      <td>6084e038-95a9-4a54-a0bc-fbbdb7690014</td>\n",
       "      <td>NaN</td>\n",
       "      <td>2021-11-17 19:10:09</td>\n",
       "      <td>NaN</td>\n",
       "      <td>0</td>\n",
       "      <td>6084e038-95a9-4a54-a0bc-fbbdb7690014</td>\n",
       "      <td>NaN</td>\n",
       "      <td>NaN</td>\n",
       "      <td>NaN</td>\n",
       "      <td>2022-07-11 01:08:03</td>\n",
       "    </tr>\n",
       "  </tbody>\n",
       "</table>\n",
       "<p>1 rows × 40 columns</p>\n",
       "</div>"
      ],
      "text/plain": [
       "                          oid                      plantingSeasonId  \\\n",
       "231  61893af54d71eb001296a8d1  5178ff25-5cd6-4f3b-aed8-b8097c7be77e   \n",
       "\n",
       "                                   landId  \\\n",
       "231  ec5dfa68-35c5-4d7e-82d0-36484c51114d   \n",
       "\n",
       "                                 farmerId  farmerName  \\\n",
       "231  b7c896e1-a92f-47bd-bf99-1f69e7799cde  aa hidayat   \n",
       "\n",
       "                                  mitraId   mitraName  \\\n",
       "231  4e16c737-7df6-464a-a314-78a13291e66e  aa hidayat   \n",
       "\n",
       "                                companyId  companyName  \\\n",
       "231  ea2b9c3e-4933-4768-939c-f914ce762e3a  Kramat Farm   \n",
       "\n",
       "                              commodityId  ...  \\\n",
       "231  ac70796a-9d3a-48d7-b7cb-7b347343f94e  ...   \n",
       "\n",
       "                                createdBy  datePreplanted  \\\n",
       "231  6084e038-95a9-4a54-a0bc-fbbdb7690014             NaN   \n",
       "\n",
       "              modifiedAt budgetPlan  fishPopulation  \\\n",
       "231  2021-11-17 19:10:09        NaN               0   \n",
       "\n",
       "                               modifiedBy budgetPlanId poolName  \\\n",
       "231  6084e038-95a9-4a54-a0bc-fbbdb7690014          NaN      NaN   \n",
       "\n",
       "    iotPartnerships      insert_date_dma  \n",
       "231             NaN  2022-07-11 01:08:03  \n",
       "\n",
       "[1 rows x 40 columns]"
      ]
     },
     "execution_count": 522,
     "metadata": {},
     "output_type": "execute_result"
    }
   ],
   "source": [
    "season.sample()"
   ]
  },
  {
   "cell_type": "code",
   "execution_count": 523,
   "id": "dc369be2",
   "metadata": {},
   "outputs": [
    {
     "data": {
      "text/plain": [
       "279"
      ]
     },
     "execution_count": 523,
     "metadata": {},
     "output_type": "execute_result"
    }
   ],
   "source": [
    "season.oid.nunique()"
   ]
  },
  {
   "cell_type": "code",
   "execution_count": 524,
   "id": "14db94ab",
   "metadata": {},
   "outputs": [
    {
     "data": {
      "text/plain": [
       "279"
      ]
     },
     "execution_count": 524,
     "metadata": {},
     "output_type": "execute_result"
    }
   ],
   "source": [
    "season.plantingSeasonId.nunique()"
   ]
  },
  {
   "cell_type": "markdown",
   "id": "61d1d6c1",
   "metadata": {},
   "source": [
    "Terlihat pada data `season` tidak ada oid atau platingSeasonId yang duplikat, artinya kemungkinan setiap baris sudah mewakili satu individu atau satu aktivitas tanam."
   ]
  },
  {
   "cell_type": "code",
   "execution_count": 525,
   "id": "b76f2c9c",
   "metadata": {},
   "outputs": [
    {
     "data": {
      "text/html": [
       "<div>\n",
       "<style scoped>\n",
       "    .dataframe tbody tr th:only-of-type {\n",
       "        vertical-align: middle;\n",
       "    }\n",
       "\n",
       "    .dataframe tbody tr th {\n",
       "        vertical-align: top;\n",
       "    }\n",
       "\n",
       "    .dataframe thead th {\n",
       "        text-align: right;\n",
       "    }\n",
       "</style>\n",
       "<table border=\"1\" class=\"dataframe\">\n",
       "  <thead>\n",
       "    <tr style=\"text-align: right;\">\n",
       "      <th></th>\n",
       "      <th>oid</th>\n",
       "      <th>commodityId</th>\n",
       "      <th>dateTime</th>\n",
       "      <th>farmerId</th>\n",
       "      <th>fertilize</th>\n",
       "      <th>harvestId</th>\n",
       "      <th>harvestPlan</th>\n",
       "      <th>incident</th>\n",
       "      <th>isActive</th>\n",
       "      <th>landCode</th>\n",
       "      <th>...</th>\n",
       "      <th>modifiedAt</th>\n",
       "      <th>modifiedBy</th>\n",
       "      <th>descriptionByFA</th>\n",
       "      <th>fieldAssistant</th>\n",
       "      <th>fieldAssistantId</th>\n",
       "      <th>isSurvey</th>\n",
       "      <th>images</th>\n",
       "      <th>code</th>\n",
       "      <th>ratings</th>\n",
       "      <th>insert_date_dma</th>\n",
       "    </tr>\n",
       "  </thead>\n",
       "  <tbody>\n",
       "    <tr>\n",
       "      <th>45</th>\n",
       "      <td>61cd5b686e2076001330daac</td>\n",
       "      <td>b9c4b339-79d8-4a36-831b-037dd12b2d9c</td>\n",
       "      <td>2021-11-04 07:18:00</td>\n",
       "      <td>66bacb68-11cb-42c0-97b5-e236ef7dad10</td>\n",
       "      <td>[]</td>\n",
       "      <td>cab1e11b-f20e-4d54-bb5c-5039e48a65fa</td>\n",
       "      <td>{}</td>\n",
       "      <td>[]</td>\n",
       "      <td>True</td>\n",
       "      <td>B6530082021</td>\n",
       "      <td>...</td>\n",
       "      <td>NaN</td>\n",
       "      <td>NaN</td>\n",
       "      <td>NaN</td>\n",
       "      <td>NaN</td>\n",
       "      <td>NaN</td>\n",
       "      <td>NaN</td>\n",
       "      <td>[]</td>\n",
       "      <td>4.0</td>\n",
       "      <td>{}</td>\n",
       "      <td>2022-07-11 01:07:51</td>\n",
       "    </tr>\n",
       "  </tbody>\n",
       "</table>\n",
       "<p>1 rows × 36 columns</p>\n",
       "</div>"
      ],
      "text/plain": [
       "                         oid                           commodityId  \\\n",
       "45  61cd5b686e2076001330daac  b9c4b339-79d8-4a36-831b-037dd12b2d9c   \n",
       "\n",
       "               dateTime                              farmerId fertilize  \\\n",
       "45  2021-11-04 07:18:00  66bacb68-11cb-42c0-97b5-e236ef7dad10        []   \n",
       "\n",
       "                               harvestId harvestPlan incident  isActive  \\\n",
       "45  cab1e11b-f20e-4d54-bb5c-5039e48a65fa          {}       []      True   \n",
       "\n",
       "       landCode  ... modifiedAt modifiedBy descriptionByFA  fieldAssistant  \\\n",
       "45  B6530082021  ...        NaN        NaN             NaN             NaN   \n",
       "\n",
       "   fieldAssistantId isSurvey images code ratings      insert_date_dma  \n",
       "45              NaN      NaN     []  4.0      {}  2022-07-11 01:07:51  \n",
       "\n",
       "[1 rows x 36 columns]"
      ]
     },
     "execution_count": 525,
     "metadata": {},
     "output_type": "execute_result"
    }
   ],
   "source": [
    "harvest.sample()"
   ]
  },
  {
   "cell_type": "code",
   "execution_count": 526,
   "id": "0e183242",
   "metadata": {},
   "outputs": [
    {
     "data": {
      "text/plain": [
       "420"
      ]
     },
     "execution_count": 526,
     "metadata": {},
     "output_type": "execute_result"
    }
   ],
   "source": [
    "harvest.oid.nunique()"
   ]
  },
  {
   "cell_type": "code",
   "execution_count": 527,
   "id": "77617c1e",
   "metadata": {},
   "outputs": [
    {
     "data": {
      "text/plain": [
       "420"
      ]
     },
     "execution_count": 527,
     "metadata": {},
     "output_type": "execute_result"
    }
   ],
   "source": [
    "harvest.harvestId.nunique()"
   ]
  },
  {
   "cell_type": "markdown",
   "id": "d13bb648",
   "metadata": {},
   "source": [
    "Terlihat pada data `harvest` tidak ada oid atau harvestId yang duplikat, artinya kemungkinan setiap baris sudah mewakili satu individu atau satu aktivitas tanam."
   ]
  },
  {
   "cell_type": "code",
   "execution_count": 528,
   "id": "25aff1e7",
   "metadata": {},
   "outputs": [
    {
     "data": {
      "text/plain": [
       "198"
      ]
     },
     "execution_count": 528,
     "metadata": {},
     "output_type": "execute_result"
    }
   ],
   "source": [
    "harvest.farmerId.nunique()"
   ]
  },
  {
   "cell_type": "code",
   "execution_count": 529,
   "id": "ac6a0d3e",
   "metadata": {},
   "outputs": [
    {
     "data": {
      "text/plain": [
       "26"
      ]
     },
     "execution_count": 529,
     "metadata": {},
     "output_type": "execute_result"
    }
   ],
   "source": [
    "harvest.commodityId.nunique()"
   ]
  },
  {
   "cell_type": "markdown",
   "id": "f8e70308",
   "metadata": {},
   "source": [
    "Banyak petani yang melakukan aktivitas tanam dengan komoditas yang sama."
   ]
  },
  {
   "cell_type": "code",
   "execution_count": 530,
   "id": "2f529d64",
   "metadata": {},
   "outputs": [
    {
     "data": {
      "text/html": [
       "<div>\n",
       "<style scoped>\n",
       "    .dataframe tbody tr th:only-of-type {\n",
       "        vertical-align: middle;\n",
       "    }\n",
       "\n",
       "    .dataframe tbody tr th {\n",
       "        vertical-align: top;\n",
       "    }\n",
       "\n",
       "    .dataframe thead th {\n",
       "        text-align: right;\n",
       "    }\n",
       "</style>\n",
       "<table border=\"1\" class=\"dataframe\">\n",
       "  <thead>\n",
       "    <tr style=\"text-align: right;\">\n",
       "      <th></th>\n",
       "      <th>targetProduction</th>\n",
       "      <th>productionPotential</th>\n",
       "      <th>pH</th>\n",
       "      <th>realizationSize</th>\n",
       "      <th>farmerCode</th>\n",
       "    </tr>\n",
       "  </thead>\n",
       "  <tbody>\n",
       "    <tr>\n",
       "      <th>count</th>\n",
       "      <td>200.0</td>\n",
       "      <td>200.000000</td>\n",
       "      <td>200.000000</td>\n",
       "      <td>200.000000</td>\n",
       "      <td>0.0</td>\n",
       "    </tr>\n",
       "    <tr>\n",
       "      <th>mean</th>\n",
       "      <td>0.0</td>\n",
       "      <td>13.340000</td>\n",
       "      <td>0.575000</td>\n",
       "      <td>1.091213</td>\n",
       "      <td>NaN</td>\n",
       "    </tr>\n",
       "    <tr>\n",
       "      <th>std</th>\n",
       "      <td>0.0</td>\n",
       "      <td>45.562861</td>\n",
       "      <td>1.895346</td>\n",
       "      <td>2.126357</td>\n",
       "      <td>NaN</td>\n",
       "    </tr>\n",
       "    <tr>\n",
       "      <th>min</th>\n",
       "      <td>0.0</td>\n",
       "      <td>0.000000</td>\n",
       "      <td>0.000000</td>\n",
       "      <td>0.000900</td>\n",
       "      <td>NaN</td>\n",
       "    </tr>\n",
       "    <tr>\n",
       "      <th>25%</th>\n",
       "      <td>0.0</td>\n",
       "      <td>0.000000</td>\n",
       "      <td>0.000000</td>\n",
       "      <td>0.450000</td>\n",
       "      <td>NaN</td>\n",
       "    </tr>\n",
       "    <tr>\n",
       "      <th>50%</th>\n",
       "      <td>0.0</td>\n",
       "      <td>0.000000</td>\n",
       "      <td>0.000000</td>\n",
       "      <td>0.700000</td>\n",
       "      <td>NaN</td>\n",
       "    </tr>\n",
       "    <tr>\n",
       "      <th>75%</th>\n",
       "      <td>0.0</td>\n",
       "      <td>0.000000</td>\n",
       "      <td>0.000000</td>\n",
       "      <td>1.000000</td>\n",
       "      <td>NaN</td>\n",
       "    </tr>\n",
       "    <tr>\n",
       "      <th>max</th>\n",
       "      <td>0.0</td>\n",
       "      <td>280.000000</td>\n",
       "      <td>7.000000</td>\n",
       "      <td>27.930000</td>\n",
       "      <td>NaN</td>\n",
       "    </tr>\n",
       "  </tbody>\n",
       "</table>\n",
       "</div>"
      ],
      "text/plain": [
       "       targetProduction  productionPotential          pH  realizationSize  \\\n",
       "count             200.0           200.000000  200.000000       200.000000   \n",
       "mean                0.0            13.340000    0.575000         1.091213   \n",
       "std                 0.0            45.562861    1.895346         2.126357   \n",
       "min                 0.0             0.000000    0.000000         0.000900   \n",
       "25%                 0.0             0.000000    0.000000         0.450000   \n",
       "50%                 0.0             0.000000    0.000000         0.700000   \n",
       "75%                 0.0             0.000000    0.000000         1.000000   \n",
       "max                 0.0           280.000000    7.000000        27.930000   \n",
       "\n",
       "       farmerCode  \n",
       "count         0.0  \n",
       "mean          NaN  \n",
       "std           NaN  \n",
       "min           NaN  \n",
       "25%           NaN  \n",
       "50%           NaN  \n",
       "75%           NaN  \n",
       "max           NaN  "
      ]
     },
     "execution_count": 530,
     "metadata": {},
     "output_type": "execute_result"
    }
   ],
   "source": [
    "lands.describe()"
   ]
  },
  {
   "cell_type": "code",
   "execution_count": 531,
   "id": "4e5193de",
   "metadata": {},
   "outputs": [
    {
     "data": {
      "text/html": [
       "<div>\n",
       "<style scoped>\n",
       "    .dataframe tbody tr th:only-of-type {\n",
       "        vertical-align: middle;\n",
       "    }\n",
       "\n",
       "    .dataframe tbody tr th {\n",
       "        vertical-align: top;\n",
       "    }\n",
       "\n",
       "    .dataframe thead th {\n",
       "        text-align: right;\n",
       "    }\n",
       "</style>\n",
       "<table border=\"1\" class=\"dataframe\">\n",
       "  <thead>\n",
       "    <tr style=\"text-align: right;\">\n",
       "      <th></th>\n",
       "      <th>size</th>\n",
       "      <th>targetProduction</th>\n",
       "      <th>datePreplanted</th>\n",
       "      <th>budgetPlan</th>\n",
       "    </tr>\n",
       "  </thead>\n",
       "  <tbody>\n",
       "    <tr>\n",
       "      <th>count</th>\n",
       "      <td>279.000000</td>\n",
       "      <td>279.0</td>\n",
       "      <td>0.0</td>\n",
       "      <td>0.0</td>\n",
       "    </tr>\n",
       "    <tr>\n",
       "      <th>mean</th>\n",
       "      <td>0.896353</td>\n",
       "      <td>0.0</td>\n",
       "      <td>NaN</td>\n",
       "      <td>NaN</td>\n",
       "    </tr>\n",
       "    <tr>\n",
       "      <th>std</th>\n",
       "      <td>0.822616</td>\n",
       "      <td>0.0</td>\n",
       "      <td>NaN</td>\n",
       "      <td>NaN</td>\n",
       "    </tr>\n",
       "    <tr>\n",
       "      <th>min</th>\n",
       "      <td>0.000900</td>\n",
       "      <td>0.0</td>\n",
       "      <td>NaN</td>\n",
       "      <td>NaN</td>\n",
       "    </tr>\n",
       "    <tr>\n",
       "      <th>25%</th>\n",
       "      <td>0.290000</td>\n",
       "      <td>0.0</td>\n",
       "      <td>NaN</td>\n",
       "      <td>NaN</td>\n",
       "    </tr>\n",
       "    <tr>\n",
       "      <th>50%</th>\n",
       "      <td>0.690000</td>\n",
       "      <td>0.0</td>\n",
       "      <td>NaN</td>\n",
       "      <td>NaN</td>\n",
       "    </tr>\n",
       "    <tr>\n",
       "      <th>75%</th>\n",
       "      <td>1.500000</td>\n",
       "      <td>0.0</td>\n",
       "      <td>NaN</td>\n",
       "      <td>NaN</td>\n",
       "    </tr>\n",
       "    <tr>\n",
       "      <th>max</th>\n",
       "      <td>6.000000</td>\n",
       "      <td>0.0</td>\n",
       "      <td>NaN</td>\n",
       "      <td>NaN</td>\n",
       "    </tr>\n",
       "  </tbody>\n",
       "</table>\n",
       "</div>"
      ],
      "text/plain": [
       "             size  targetProduction  datePreplanted  budgetPlan\n",
       "count  279.000000             279.0             0.0         0.0\n",
       "mean     0.896353               0.0             NaN         NaN\n",
       "std      0.822616               0.0             NaN         NaN\n",
       "min      0.000900               0.0             NaN         NaN\n",
       "25%      0.290000               0.0             NaN         NaN\n",
       "50%      0.690000               0.0             NaN         NaN\n",
       "75%      1.500000               0.0             NaN         NaN\n",
       "max      6.000000               0.0             NaN         NaN"
      ]
     },
     "execution_count": 531,
     "metadata": {},
     "output_type": "execute_result"
    }
   ],
   "source": [
    "season.describe()"
   ]
  },
  {
   "cell_type": "code",
   "execution_count": 532,
   "id": "0dfc099a",
   "metadata": {
    "scrolled": true
   },
   "outputs": [
    {
     "data": {
      "text/html": [
       "<div>\n",
       "<style scoped>\n",
       "    .dataframe tbody tr th:only-of-type {\n",
       "        vertical-align: middle;\n",
       "    }\n",
       "\n",
       "    .dataframe tbody tr th {\n",
       "        vertical-align: top;\n",
       "    }\n",
       "\n",
       "    .dataframe thead th {\n",
       "        text-align: right;\n",
       "    }\n",
       "</style>\n",
       "<table border=\"1\" class=\"dataframe\">\n",
       "  <thead>\n",
       "    <tr style=\"text-align: right;\">\n",
       "      <th></th>\n",
       "      <th>order</th>\n",
       "      <th>descriptionByFA</th>\n",
       "      <th>fieldAssistant</th>\n",
       "      <th>fieldAssistantId</th>\n",
       "      <th>isSurvey</th>\n",
       "      <th>code</th>\n",
       "    </tr>\n",
       "  </thead>\n",
       "  <tbody>\n",
       "    <tr>\n",
       "      <th>count</th>\n",
       "      <td>420.000000</td>\n",
       "      <td>0.0</td>\n",
       "      <td>0.0</td>\n",
       "      <td>0.0</td>\n",
       "      <td>0.0</td>\n",
       "      <td>224.0</td>\n",
       "    </tr>\n",
       "    <tr>\n",
       "      <th>mean</th>\n",
       "      <td>2.978571</td>\n",
       "      <td>NaN</td>\n",
       "      <td>NaN</td>\n",
       "      <td>NaN</td>\n",
       "      <td>NaN</td>\n",
       "      <td>4.0</td>\n",
       "    </tr>\n",
       "    <tr>\n",
       "      <th>std</th>\n",
       "      <td>3.848816</td>\n",
       "      <td>NaN</td>\n",
       "      <td>NaN</td>\n",
       "      <td>NaN</td>\n",
       "      <td>NaN</td>\n",
       "      <td>0.0</td>\n",
       "    </tr>\n",
       "    <tr>\n",
       "      <th>min</th>\n",
       "      <td>1.000000</td>\n",
       "      <td>NaN</td>\n",
       "      <td>NaN</td>\n",
       "      <td>NaN</td>\n",
       "      <td>NaN</td>\n",
       "      <td>4.0</td>\n",
       "    </tr>\n",
       "    <tr>\n",
       "      <th>25%</th>\n",
       "      <td>1.000000</td>\n",
       "      <td>NaN</td>\n",
       "      <td>NaN</td>\n",
       "      <td>NaN</td>\n",
       "      <td>NaN</td>\n",
       "      <td>4.0</td>\n",
       "    </tr>\n",
       "    <tr>\n",
       "      <th>50%</th>\n",
       "      <td>1.000000</td>\n",
       "      <td>NaN</td>\n",
       "      <td>NaN</td>\n",
       "      <td>NaN</td>\n",
       "      <td>NaN</td>\n",
       "      <td>4.0</td>\n",
       "    </tr>\n",
       "    <tr>\n",
       "      <th>75%</th>\n",
       "      <td>3.000000</td>\n",
       "      <td>NaN</td>\n",
       "      <td>NaN</td>\n",
       "      <td>NaN</td>\n",
       "      <td>NaN</td>\n",
       "      <td>4.0</td>\n",
       "    </tr>\n",
       "    <tr>\n",
       "      <th>max</th>\n",
       "      <td>21.000000</td>\n",
       "      <td>NaN</td>\n",
       "      <td>NaN</td>\n",
       "      <td>NaN</td>\n",
       "      <td>NaN</td>\n",
       "      <td>4.0</td>\n",
       "    </tr>\n",
       "  </tbody>\n",
       "</table>\n",
       "</div>"
      ],
      "text/plain": [
       "            order  descriptionByFA  fieldAssistant  fieldAssistantId  \\\n",
       "count  420.000000              0.0             0.0               0.0   \n",
       "mean     2.978571              NaN             NaN               NaN   \n",
       "std      3.848816              NaN             NaN               NaN   \n",
       "min      1.000000              NaN             NaN               NaN   \n",
       "25%      1.000000              NaN             NaN               NaN   \n",
       "50%      1.000000              NaN             NaN               NaN   \n",
       "75%      3.000000              NaN             NaN               NaN   \n",
       "max     21.000000              NaN             NaN               NaN   \n",
       "\n",
       "       isSurvey   code  \n",
       "count       0.0  224.0  \n",
       "mean        NaN    4.0  \n",
       "std         NaN    0.0  \n",
       "min         NaN    4.0  \n",
       "25%         NaN    4.0  \n",
       "50%         NaN    4.0  \n",
       "75%         NaN    4.0  \n",
       "max         NaN    4.0  "
      ]
     },
     "execution_count": 532,
     "metadata": {},
     "output_type": "execute_result"
    }
   ],
   "source": [
    "harvest.describe()"
   ]
  },
  {
   "cell_type": "markdown",
   "id": "8ac65268",
   "metadata": {},
   "source": [
    "**Check categorical type**"
   ]
  },
  {
   "cell_type": "code",
   "execution_count": 533,
   "id": "180487e8",
   "metadata": {
    "scrolled": false
   },
   "outputs": [
    {
     "data": {
      "text/plain": [
       "oid                      200\n",
       "landId                   200\n",
       "mitraId                  187\n",
       "farmerId                 198\n",
       "commodityId               26\n",
       "size                      65\n",
       "ownershipStatus            3\n",
       "landLegality               2\n",
       "locationHeight             9\n",
       "typeOfSoil                 3\n",
       "landSlope                  3\n",
       "vegetationCover            2\n",
       "waterSources               6\n",
       "infrastructureAccess      10\n",
       "financing                  3\n",
       "distanceToRoad            32\n",
       "description               10\n",
       "coordinate               194\n",
       "populationPotential       19\n",
       "rainfall                   5\n",
       "structure                  7\n",
       "texture                    7\n",
       "location                 111\n",
       "address                   71\n",
       "image                    122\n",
       "document                   4\n",
       "farmerName               195\n",
       "farmerImage              198\n",
       "commodityName             27\n",
       "plantingSeason           200\n",
       "realizationProduction     40\n",
       "createdAt                200\n",
       "createdBy                 56\n",
       "modifiedAt               200\n",
       "modifiedBy               187\n",
       "lengthUnit                 4\n",
       "additionalQuestion         9\n",
       "isFarmer                   2\n",
       "fisheryImage              13\n",
       "sector                     2\n",
       "varietyId                  2\n",
       "insert_date_dma            1\n",
       "dtype: int64"
      ]
     },
     "execution_count": 533,
     "metadata": {},
     "output_type": "execute_result"
    }
   ],
   "source": [
    "lands.select_dtypes(include='object').nunique()"
   ]
  },
  {
   "cell_type": "markdown",
   "id": "fb807ad7",
   "metadata": {},
   "source": [
    "Pada tahap ini dilakukan pembuangan fitur yang hanya memiliki satu nilai unik saja."
   ]
  },
  {
   "cell_type": "code",
   "execution_count": 534,
   "id": "051c74a9",
   "metadata": {},
   "outputs": [],
   "source": [
    "lands.drop(['insert_date_dma'], axis=1, inplace=True)"
   ]
  },
  {
   "cell_type": "code",
   "execution_count": 535,
   "id": "71058c94",
   "metadata": {
    "scrolled": true
   },
   "outputs": [
    {
     "data": {
      "text/plain": [
       "oid                     279\n",
       "plantingSeasonId        279\n",
       "landId                  200\n",
       "farmerId                198\n",
       "farmerName              195\n",
       "mitraId                 187\n",
       "mitraName               187\n",
       "companyId                24\n",
       "companyName              25\n",
       "commodityId              26\n",
       "commodityName            28\n",
       "location                115\n",
       "villageId                10\n",
       "phase                    15\n",
       "incidentCategory        276\n",
       "fertilizeCategory       175\n",
       "landCode                279\n",
       "timeLine                182\n",
       "dateTimeLine              1\n",
       "activities               15\n",
       "activitiesCommodity       4\n",
       "order                   246\n",
       "varietyId                28\n",
       "varietyName              28\n",
       "datePlanted              91\n",
       "populationSuggestion    101\n",
       "createdAt               279\n",
       "createdBy               187\n",
       "modifiedAt              176\n",
       "fishPopulation            3\n",
       "modifiedBy               94\n",
       "budgetPlanId              2\n",
       "poolName                  5\n",
       "iotPartnerships           1\n",
       "insert_date_dma           1\n",
       "dtype: int64"
      ]
     },
     "execution_count": 535,
     "metadata": {},
     "output_type": "execute_result"
    }
   ],
   "source": [
    "season.select_dtypes(include='object').nunique()"
   ]
  },
  {
   "cell_type": "markdown",
   "id": "93e73fcf",
   "metadata": {},
   "source": [
    "Pada tahap ini dilakukan pembuangan fitur yang memiliki nilai unik yang hanya memiliki satu nilai unik saja."
   ]
  },
  {
   "cell_type": "code",
   "execution_count": 536,
   "id": "62dd272d",
   "metadata": {},
   "outputs": [],
   "source": [
    "season.drop(['dateTimeLine', 'iotPartnerships', 'insert_date_dma'], axis=1, inplace=True)"
   ]
  },
  {
   "cell_type": "code",
   "execution_count": 537,
   "id": "bf1fbdba",
   "metadata": {
    "scrolled": true
   },
   "outputs": [
    {
     "data": {
      "text/plain": [
       "oid                 420\n",
       "commodityId          26\n",
       "dateTime            177\n",
       "farmerId            198\n",
       "fertilize             4\n",
       "harvestId           420\n",
       "harvestPlan          20\n",
       "incident              2\n",
       "landCode            279\n",
       "landId              200\n",
       "mitraId             187\n",
       "name                 21\n",
       "plantingSeasonId    279\n",
       "population           64\n",
       "production          136\n",
       "status                1\n",
       "commodityName        28\n",
       "farmerName          195\n",
       "mitraName           187\n",
       "createdAt           231\n",
       "createdBy            50\n",
       "repeat                2\n",
       "varietyId            21\n",
       "varietyName          21\n",
       "modifiedAt            4\n",
       "modifiedBy            4\n",
       "images                7\n",
       "ratings               8\n",
       "insert_date_dma       1\n",
       "dtype: int64"
      ]
     },
     "execution_count": 537,
     "metadata": {},
     "output_type": "execute_result"
    }
   ],
   "source": [
    "harvest.select_dtypes(include='object').nunique()"
   ]
  },
  {
   "cell_type": "markdown",
   "id": "ff894539",
   "metadata": {},
   "source": [
    "Pada tahap ini dilakukan pembuangan fitur yang memiliki nilai unik yang hanya memiliki satu nilai unik saja."
   ]
  },
  {
   "cell_type": "code",
   "execution_count": 538,
   "id": "1d327c2b",
   "metadata": {},
   "outputs": [],
   "source": [
    "harvest.drop(['status', 'insert_date_dma'], axis=1, inplace=True)"
   ]
  },
  {
   "cell_type": "markdown",
   "id": "55d109b7",
   "metadata": {},
   "source": [
    "**CHECKING MISSING VALUE**"
   ]
  },
  {
   "cell_type": "code",
   "execution_count": 539,
   "id": "3d21b12e",
   "metadata": {},
   "outputs": [
    {
     "data": {
      "text/plain": [
       "farmerCode         100.0\n",
       "varietyId           98.5\n",
       "fisheryImage        93.0\n",
       "structure           93.0\n",
       "texture             92.5\n",
       "landLegality        89.0\n",
       "landSlope           88.0\n",
       "typeOfSoil          85.5\n",
       "vegetationCover     83.0\n",
       "waterSources        79.0\n",
       "financing           78.5\n",
       "ownershipStatus     74.0\n",
       "sector              48.5\n",
       "isFarmer             7.0\n",
       "description          1.5\n",
       "location             1.5\n",
       "lengthUnit           1.5\n",
       "dtype: float64"
      ]
     },
     "execution_count": 539,
     "metadata": {},
     "output_type": "execute_result"
    }
   ],
   "source": [
    "check_missing = lands.isnull().sum() * 100 / lands.shape[0]\n",
    "check_missing[check_missing > 0].sort_values(ascending=False)"
   ]
  },
  {
   "cell_type": "code",
   "execution_count": 540,
   "id": "63133dfb",
   "metadata": {},
   "outputs": [
    {
     "data": {
      "text/plain": [
       "datePreplanted    100.000000\n",
       "budgetPlan        100.000000\n",
       "budgetPlanId       98.566308\n",
       "poolName           98.207885\n",
       "villageId          94.982079\n",
       "datePlanted        39.426523\n",
       "varietyId          38.709677\n",
       "varietyName        38.709677\n",
       "modifiedAt         35.125448\n",
       "modifiedBy         35.125448\n",
       "companyId           0.358423\n",
       "companyName         0.358423\n",
       "dtype: float64"
      ]
     },
     "execution_count": 540,
     "metadata": {},
     "output_type": "execute_result"
    }
   ],
   "source": [
    "check_missing = season.isnull().sum() * 100 / season.shape[0]\n",
    "check_missing[check_missing > 0].sort_values(ascending=False)"
   ]
  },
  {
   "cell_type": "code",
   "execution_count": 541,
   "id": "14e1adf8",
   "metadata": {},
   "outputs": [
    {
     "data": {
      "text/plain": [
       "descriptionByFA     100.000000\n",
       "fieldAssistant      100.000000\n",
       "fieldAssistantId    100.000000\n",
       "isSurvey            100.000000\n",
       "modifiedAt           99.047619\n",
       "modifiedBy           99.047619\n",
       "code                 46.666667\n",
       "varietyId            45.238095\n",
       "varietyName          45.238095\n",
       "dateTime             45.000000\n",
       "createdAt            45.000000\n",
       "createdBy            45.000000\n",
       "repeat               45.000000\n",
       "dtype: float64"
      ]
     },
     "execution_count": 541,
     "metadata": {},
     "output_type": "execute_result"
    }
   ],
   "source": [
    "check_missing = harvest.isnull().sum() * 100 / harvest.shape[0]\n",
    "check_missing[check_missing > 0].sort_values(ascending=False)"
   ]
  },
  {
   "cell_type": "markdown",
   "id": "ba28e859",
   "metadata": {},
   "source": [
    "# Eksploratory Data Analysis\n",
    "\n",
    "**INFORMASI LAHAN**"
   ]
  },
  {
   "cell_type": "code",
   "execution_count": 542,
   "id": "fcc7dfbe",
   "metadata": {},
   "outputs": [
    {
     "data": {
      "text/plain": [
       "<AxesSubplot:xlabel='ownershipStatus', ylabel='count'>"
      ]
     },
     "execution_count": 542,
     "metadata": {},
     "output_type": "execute_result"
    },
    {
     "data": {
      "image/png": "[encoded data removed]",
      "text/plain": [
       "<Figure size 432x288 with 1 Axes>"
      ]
     },
     "metadata": {
      "needs_background": "light"
     },
     "output_type": "display_data"
    }
   ],
   "source": [
    "sns.countplot(data=lands, x='ownershipStatus')"
   ]
  },
  {
   "cell_type": "code",
   "execution_count": 543,
   "id": "694d8afd",
   "metadata": {},
   "outputs": [
    {
     "data": {
      "text/plain": [
       "<AxesSubplot:xlabel='landLegality', ylabel='count'>"
      ]
     },
     "execution_count": 543,
     "metadata": {},
     "output_type": "execute_result"
    },
    {
     "data": {
      "image/png": "[encoded data removed]",
      "text/plain": [
       "<Figure size 432x288 with 1 Axes>"
      ]
     },
     "metadata": {
      "needs_background": "light"
     },
     "output_type": "display_data"
    }
   ],
   "source": [
    "sns.countplot(data=lands, x='landLegality')"
   ]
  },
  {
   "cell_type": "code",
   "execution_count": 544,
   "id": "7f2c5122",
   "metadata": {},
   "outputs": [
    {
     "data": {
      "text/plain": [
       "<AxesSubplot:xlabel='typeOfSoil', ylabel='count'>"
      ]
     },
     "execution_count": 544,
     "metadata": {},
     "output_type": "execute_result"
    },
    {
     "data": {
      "image/png": "[encoded data removed]",
      "text/plain": [
       "<Figure size 432x288 with 1 Axes>"
      ]
     },
     "metadata": {
      "needs_background": "light"
     },
     "output_type": "display_data"
    }
   ],
   "source": [
    "sns.countplot(data=lands, x='typeOfSoil')"
   ]
  },
  {
   "cell_type": "code",
   "execution_count": 545,
   "id": "1c254fd4",
   "metadata": {},
   "outputs": [
    {
     "data": {
      "text/plain": [
       "<AxesSubplot:xlabel='landSlope', ylabel='count'>"
      ]
     },
     "execution_count": 545,
     "metadata": {},
     "output_type": "execute_result"
    },
    {
     "data": {
      "image/png": "[encoded data removed]",
      "text/plain": [
       "<Figure size 432x288 with 1 Axes>"
      ]
     },
     "metadata": {
      "needs_background": "light"
     },
     "output_type": "display_data"
    }
   ],
   "source": [
    "sns.countplot(data=lands, x='landSlope')"
   ]
  },
  {
   "cell_type": "code",
   "execution_count": 546,
   "id": "5bac5a1a",
   "metadata": {},
   "outputs": [
    {
     "data": {
      "text/plain": [
       "<AxesSubplot:xlabel='vegetationCover', ylabel='count'>"
      ]
     },
     "execution_count": 546,
     "metadata": {},
     "output_type": "execute_result"
    },
    {
     "data": {
      "image/png": "[encoded data removed]",
      "text/plain": [
       "<Figure size 432x288 with 1 Axes>"
      ]
     },
     "metadata": {
      "needs_background": "light"
     },
     "output_type": "display_data"
    }
   ],
   "source": [
    "sns.countplot(data=lands, x='vegetationCover')"
   ]
  },
  {
   "cell_type": "code",
   "execution_count": 547,
   "id": "80b533e6",
   "metadata": {},
   "outputs": [
    {
     "data": {
      "text/plain": [
       "<AxesSubplot:xlabel='count', ylabel='waterSources'>"
      ]
     },
     "execution_count": 547,
     "metadata": {},
     "output_type": "execute_result"
    },
    {
     "data": {
      "image/png": "[encoded data removed]",
      "text/plain": [
       "<Figure size 432x288 with 1 Axes>"
      ]
     },
     "metadata": {
      "needs_background": "light"
     },
     "output_type": "display_data"
    }
   ],
   "source": [
    "sns.countplot(data=lands, y='waterSources')"
   ]
  },
  {
   "cell_type": "code",
   "execution_count": 548,
   "id": "dfd96676",
   "metadata": {},
   "outputs": [
    {
     "data": {
      "text/plain": [
       "<AxesSubplot:xlabel='financing', ylabel='count'>"
      ]
     },
     "execution_count": 548,
     "metadata": {},
     "output_type": "execute_result"
    },
    {
     "data": {
      "image/png": "[encoded data removed]",
      "text/plain": [
       "<Figure size 432x288 with 1 Axes>"
      ]
     },
     "metadata": {
      "needs_background": "light"
     },
     "output_type": "display_data"
    }
   ],
   "source": [
    "sns.countplot(data=lands, x='financing')"
   ]
  },
  {
   "cell_type": "code",
   "execution_count": 549,
   "id": "e8c39f79",
   "metadata": {},
   "outputs": [
    {
     "data": {
      "text/plain": [
       "<AxesSubplot:xlabel='sector', ylabel='count'>"
      ]
     },
     "execution_count": 549,
     "metadata": {},
     "output_type": "execute_result"
    },
    {
     "data": {
      "image/png": "[encoded data removed]",
      "text/plain": [
       "<Figure size 432x288 with 1 Axes>"
      ]
     },
     "metadata": {
      "needs_background": "light"
     },
     "output_type": "display_data"
    }
   ],
   "source": [
    "sns.countplot(data=lands, x='sector')"
   ]
  },
  {
   "cell_type": "code",
   "execution_count": 550,
   "id": "ab6758ea",
   "metadata": {},
   "outputs": [
    {
     "data": {
      "text/plain": [
       "<AxesSubplot:xlabel='count', ylabel='structure'>"
      ]
     },
     "execution_count": 550,
     "metadata": {},
     "output_type": "execute_result"
    },
    {
     "data": {
      "image/png": "[encoded data removed]",
      "text/plain": [
       "<Figure size 432x288 with 1 Axes>"
      ]
     },
     "metadata": {
      "needs_background": "light"
     },
     "output_type": "display_data"
    }
   ],
   "source": [
    "sns.countplot(data=lands, y='structure')"
   ]
  },
  {
   "cell_type": "code",
   "execution_count": 551,
   "id": "faac2949",
   "metadata": {},
   "outputs": [
    {
     "data": {
      "text/plain": [
       "<AxesSubplot:xlabel='count', ylabel='texture'>"
      ]
     },
     "execution_count": 551,
     "metadata": {},
     "output_type": "execute_result"
    },
    {
     "data": {
      "image/png": "[encoded data removed]",
      "text/plain": [
       "<Figure size 432x288 with 1 Axes>"
      ]
     },
     "metadata": {
      "needs_background": "light"
     },
     "output_type": "display_data"
    }
   ],
   "source": [
    "sns.countplot(data=lands, y='texture')"
   ]
  },
  {
   "cell_type": "code",
   "execution_count": 552,
   "id": "9fee162c",
   "metadata": {
    "scrolled": true
   },
   "outputs": [
    {
     "data": {
      "text/plain": [
       "<AxesSubplot:xlabel='count', ylabel='commodityName'>"
      ]
     },
     "execution_count": 552,
     "metadata": {},
     "output_type": "execute_result"
    },
    {
     "data": {
      "image/png": "[encoded data removed]",
      "text/plain": [
       "<Figure size 864x432 with 1 Axes>"
      ]
     },
     "metadata": {
      "needs_background": "light"
     },
     "output_type": "display_data"
    }
   ],
   "source": [
    "plt.figure(figsize=(12,6))\n",
    "sns.countplot(data=lands, y='commodityName')"
   ]
  },
  {
   "cell_type": "code",
   "execution_count": 553,
   "id": "b687b351",
   "metadata": {},
   "outputs": [
    {
     "data": {
      "image/png": "[encoded data removed]",
      "text/plain": [
       "<Figure size 1080x360 with 2 Axes>"
      ]
     },
     "metadata": {
      "needs_background": "light"
     },
     "output_type": "display_data"
    }
   ],
   "source": [
    "fig, ax = plt.subplots(1,2, figsize=(15,5))\n",
    "sns.countplot(data=lands, x='ownershipStatus', hue='landLegality', ax=ax[0]). set_title('Distribusi ownerstatus/legality') ;\n",
    "sns.countplot(data=lands, x='typeOfSoil', hue='vegetationCover', ax=ax[1]). set_title('Distribusi typesoil/vegetation') ;"
   ]
  },
  {
   "cell_type": "code",
   "execution_count": 554,
   "id": "c433c425",
   "metadata": {},
   "outputs": [
    {
     "data": {
      "text/plain": [
       "<AxesSubplot:xlabel='count', ylabel='infrastructureAccess'>"
      ]
     },
     "execution_count": 554,
     "metadata": {},
     "output_type": "execute_result"
    },
    {
     "data": {
      "image/png": "[encoded data removed]",
      "text/plain": [
       "<Figure size 1440x720 with 1 Axes>"
      ]
     },
     "metadata": {
      "needs_background": "light"
     },
     "output_type": "display_data"
    }
   ],
   "source": [
    "plt.figure(figsize=(20,10))\n",
    "sns.countplot(data=lands, y='infrastructureAccess')"
   ]
  },
  {
   "cell_type": "code",
   "execution_count": 555,
   "id": "a3b776d4",
   "metadata": {},
   "outputs": [
    {
     "data": {
      "text/plain": [
       "<AxesSubplot:>"
      ]
     },
     "execution_count": 555,
     "metadata": {},
     "output_type": "execute_result"
    },
    {
     "data": {
      "image/png": "[encoded data removed]",
      "text/plain": [
       "<Figure size 432x288 with 1 Axes>"
      ]
     },
     "metadata": {
      "needs_background": "light"
     },
     "output_type": "display_data"
    }
   ],
   "source": [
    "lands['productionPotential'].hist(bins=5, grid=False)"
   ]
  },
  {
   "cell_type": "code",
   "execution_count": 556,
   "id": "e3afa43f",
   "metadata": {},
   "outputs": [
    {
     "data": {
      "text/plain": [
       "<AxesSubplot:>"
      ]
     },
     "execution_count": 556,
     "metadata": {},
     "output_type": "execute_result"
    },
    {
     "data": {
      "image/png": "[encoded data removed]",
      "text/plain": [
       "<Figure size 432x288 with 1 Axes>"
      ]
     },
     "metadata": {
      "needs_background": "light"
     },
     "output_type": "display_data"
    }
   ],
   "source": [
    "lands['rainfall'].hist(bins=5, grid=False)"
   ]
  },
  {
   "cell_type": "code",
   "execution_count": 557,
   "id": "8e55658a",
   "metadata": {
    "scrolled": true
   },
   "outputs": [
    {
     "data": {
      "text/plain": [
       "<AxesSubplot:>"
      ]
     },
     "execution_count": 557,
     "metadata": {},
     "output_type": "execute_result"
    },
    {
     "data": {
      "image/png": "[encoded data removed]",
      "text/plain": [
       "<Figure size 432x288 with 1 Axes>"
      ]
     },
     "metadata": {
      "needs_background": "light"
     },
     "output_type": "display_data"
    }
   ],
   "source": [
    "lands['pH'].hist(bins=5, grid=False)"
   ]
  },
  {
   "cell_type": "code",
   "execution_count": 558,
   "id": "5ba05472",
   "metadata": {},
   "outputs": [
    {
     "data": {
      "text/plain": [
       "<AxesSubplot:>"
      ]
     },
     "execution_count": 558,
     "metadata": {},
     "output_type": "execute_result"
    },
    {
     "data": {
      "image/png": "[encoded data removed]",
      "text/plain": [
       "<Figure size 1440x720 with 1 Axes>"
      ]
     },
     "metadata": {
      "needs_background": "light"
     },
     "output_type": "display_data"
    }
   ],
   "source": [
    "plt.figure(figsize=(20,10))\n",
    "lands['distanceToRoad'].hist(bins=30, grid=False)"
   ]
  },
  {
   "cell_type": "code",
   "execution_count": 559,
   "id": "646f7813",
   "metadata": {},
   "outputs": [
    {
     "data": {
      "text/plain": [
       "<AxesSubplot:>"
      ]
     },
     "execution_count": 559,
     "metadata": {},
     "output_type": "execute_result"
    },
    {
     "data": {
      "image/png": "[encoded data removed]",
      "text/plain": [
       "<Figure size 2160x1440 with 1 Axes>"
      ]
     },
     "metadata": {
      "needs_background": "light"
     },
     "output_type": "display_data"
    }
   ],
   "source": [
    "plt.figure(figsize=(30,20))\n",
    "lands['size'].hist(bins=30, grid=False)"
   ]
  },
  {
   "cell_type": "code",
   "execution_count": 560,
   "id": "512c5eb7",
   "metadata": {
    "scrolled": true
   },
   "outputs": [
    {
     "data": {
      "text/plain": [
       "<AxesSubplot:>"
      ]
     },
     "execution_count": 560,
     "metadata": {},
     "output_type": "execute_result"
    },
    {
     "data": {
      "image/png": "[encoded data removed]",
      "text/plain": [
       "<Figure size 1440x720 with 1 Axes>"
      ]
     },
     "metadata": {
      "needs_background": "light"
     },
     "output_type": "display_data"
    }
   ],
   "source": [
    "plt.figure(figsize=(20,10))\n",
    "lands['locationHeight'].hist(bins=5, grid=False)"
   ]
  },
  {
   "cell_type": "markdown",
   "id": "0b5a4e20",
   "metadata": {},
   "source": [
    "**CORRELATION MATRIX**"
   ]
  },
  {
   "cell_type": "code",
   "execution_count": 562,
   "id": "964c216f",
   "metadata": {},
   "outputs": [
    {
     "data": {
      "text/plain": [
       "<AxesSubplot:>"
      ]
     },
     "execution_count": 562,
     "metadata": {},
     "output_type": "execute_result"
    },
    {
     "data": {
      "image/png": "[encoded data removed]",
      "text/plain": [
       "<Figure size 1440x1440 with 2 Axes>"
      ]
     },
     "metadata": {
      "needs_background": "light"
     },
     "output_type": "display_data"
    }
   ],
   "source": [
    "plt.figure(figsize=(20,20))\n",
    "sns.heatmap(lands.corr())"
   ]
  },
  {
   "cell_type": "markdown",
   "id": "ff9a267d",
   "metadata": {},
   "source": [
    "# Eksploratory Data Analysis\n",
    "\n",
    "**INFORMASI AKTIVITAS TANAM**"
   ]
  },
  {
   "cell_type": "code",
   "execution_count": 568,
   "id": "8608c288",
   "metadata": {},
   "outputs": [
    {
     "data": {
      "text/plain": [
       "<AxesSubplot:xlabel='count', ylabel='activitiesCommodity'>"
      ]
     },
     "execution_count": 568,
     "metadata": {},
     "output_type": "execute_result"
    },
    {
     "data": {
      "image/png": "[encoded data removed]",
      "text/plain": [
       "<Figure size 432x288 with 1 Axes>"
      ]
     },
     "metadata": {
      "needs_background": "light"
     },
     "output_type": "display_data"
    }
   ],
   "source": [
    "sns.countplot(data=season, y='activitiesCommodity')"
   ]
  },
  {
   "cell_type": "code",
   "execution_count": 569,
   "id": "46751056",
   "metadata": {
    "scrolled": true
   },
   "outputs": [
    {
     "data": {
      "text/plain": [
       "<AxesSubplot:xlabel='count', ylabel='activities'>"
      ]
     },
     "execution_count": 569,
     "metadata": {},
     "output_type": "execute_result"
    },
    {
     "data": {
      "image/png": "[encoded data removed]",
      "text/plain": [
       "<Figure size 432x288 with 1 Axes>"
      ]
     },
     "metadata": {
      "needs_background": "light"
     },
     "output_type": "display_data"
    }
   ],
   "source": [
    "sns.countplot(data=season, y='activities')"
   ]
  },
  {
   "cell_type": "code",
   "execution_count": 570,
   "id": "f503885a",
   "metadata": {},
   "outputs": [
    {
     "data": {
      "text/plain": [
       "<AxesSubplot:xlabel='count', ylabel='commodityName'>"
      ]
     },
     "execution_count": 570,
     "metadata": {},
     "output_type": "execute_result"
    },
    {
     "data": {
      "image/png": "[encoded data removed]",
      "text/plain": [
       "<Figure size 1440x720 with 1 Axes>"
      ]
     },
     "metadata": {
      "needs_background": "light"
     },
     "output_type": "display_data"
    }
   ],
   "source": [
    "plt.figure(figsize=(20,10))\n",
    "sns.countplot(data=season, y='commodityName')"
   ]
  },
  {
   "cell_type": "code",
   "execution_count": 571,
   "id": "82f5435f",
   "metadata": {},
   "outputs": [
    {
     "data": {
      "text/plain": [
       "<AxesSubplot:xlabel='count', ylabel='varietyName'>"
      ]
     },
     "execution_count": 571,
     "metadata": {},
     "output_type": "execute_result"
    },
    {
     "data": {
      "image/png": "[encoded data removed]",
      "text/plain": [
       "<Figure size 1440x720 with 1 Axes>"
      ]
     },
     "metadata": {
      "needs_background": "light"
     },
     "output_type": "display_data"
    }
   ],
   "source": [
    "plt.figure(figsize=(20,10))\n",
    "sns.countplot(data=season, y='varietyName')"
   ]
  },
  {
   "cell_type": "code",
   "execution_count": 572,
   "id": "0eb1859d",
   "metadata": {},
   "outputs": [
    {
     "data": {
      "text/plain": [
       "<AxesSubplot:xlabel='fishPopulation', ylabel='count'>"
      ]
     },
     "execution_count": 572,
     "metadata": {},
     "output_type": "execute_result"
    },
    {
     "data": {
      "image/png": "[encoded data removed]",
      "text/plain": [
       "<Figure size 1440x720 with 1 Axes>"
      ]
     },
     "metadata": {
      "needs_background": "light"
     },
     "output_type": "display_data"
    }
   ],
   "source": [
    "plt.figure(figsize=(20,10))\n",
    "sns.countplot(data=season, x='fishPopulation')"
   ]
  },
  {
   "cell_type": "code",
   "execution_count": 573,
   "id": "ec568b8b",
   "metadata": {},
   "outputs": [
    {
     "data": {
      "text/plain": [
       "<AxesSubplot:xlabel='poolName', ylabel='count'>"
      ]
     },
     "execution_count": 573,
     "metadata": {},
     "output_type": "execute_result"
    },
    {
     "data": {
      "image/png": "[encoded data removed]",
      "text/plain": [
       "<Figure size 1440x720 with 1 Axes>"
      ]
     },
     "metadata": {
      "needs_background": "light"
     },
     "output_type": "display_data"
    }
   ],
   "source": [
    "plt.figure(figsize=(20,10))\n",
    "sns.countplot(data=season, x='poolName')"
   ]
  },
  {
   "cell_type": "code",
   "execution_count": 574,
   "id": "e46a5f4c",
   "metadata": {},
   "outputs": [
    {
     "data": {
      "text/plain": [
       "<AxesSubplot:>"
      ]
     },
     "execution_count": 574,
     "metadata": {},
     "output_type": "execute_result"
    },
    {
     "data": {
      "image/png": "[encoded data removed]",
      "text/plain": [
       "<Figure size 1440x720 with 1 Axes>"
      ]
     },
     "metadata": {
      "needs_background": "light"
     },
     "output_type": "display_data"
    }
   ],
   "source": [
    "plt.figure(figsize=(20,10))\n",
    "season['size'].hist(bins=5, grid=False)"
   ]
  },
  {
   "cell_type": "code",
   "execution_count": 575,
   "id": "72f11dd2",
   "metadata": {
    "scrolled": true
   },
   "outputs": [
    {
     "data": {
      "text/plain": [
       "<AxesSubplot:>"
      ]
     },
     "execution_count": 575,
     "metadata": {},
     "output_type": "execute_result"
    },
    {
     "data": {
      "image/png": "[encoded data removed]",
      "text/plain": [
       "<Figure size 1440x720 with 1 Axes>"
      ]
     },
     "metadata": {
      "needs_background": "light"
     },
     "output_type": "display_data"
    }
   ],
   "source": [
    "plt.figure(figsize=(20,10))\n",
    "season['targetProduction'].hist(bins=5, grid=False)"
   ]
  },
  {
   "cell_type": "markdown",
   "id": "ce41220f",
   "metadata": {},
   "source": [
    "**CORRELATION MATRIX**"
   ]
  },
  {
   "cell_type": "code",
   "execution_count": 577,
   "id": "e95b5394",
   "metadata": {},
   "outputs": [
    {
     "data": {
      "text/plain": [
       "<AxesSubplot:>"
      ]
     },
     "execution_count": 577,
     "metadata": {},
     "output_type": "execute_result"
    },
    {
     "data": {
      "image/png": "[encoded data removed]",
      "text/plain": [
       "<Figure size 1440x1440 with 2 Axes>"
      ]
     },
     "metadata": {
      "needs_background": "light"
     },
     "output_type": "display_data"
    }
   ],
   "source": [
    "plt.figure(figsize=(20,20))\n",
    "sns.heatmap(season.corr())"
   ]
  },
  {
   "cell_type": "code",
   "execution_count": 578,
   "id": "d336ee95",
   "metadata": {},
   "outputs": [
    {
     "name": "stderr",
     "output_type": "stream",
     "text": [
      "C:\\Users\\ACER\\AppData\\Local\\Temp\\ipykernel_9404\\1325881432.py:2: DeprecationWarning: `np.bool` is a deprecated alias for the builtin `bool`. To silence this warning, use `bool` by itself. Doing this will not modify any behavior and is safe. If you specifically wanted the numpy scalar type, use `np.bool_` here.\n",
      "Deprecated in NumPy 1.20; for more details and guidance: https://numpy.org/devdocs/release/1.20.0-notes.html#deprecations\n",
      "  upper = corr_matrix.where(np.triu(np.ones(corr_matrix.shape), k=1).astype(np.bool))\n"
     ]
    }
   ],
   "source": [
    "corr_matrix = seasons.corr().abs()\n",
    "upper = corr_matrix.where(np.triu(np.ones(corr_matrix.shape), k=1).astype(np.bool))\n",
    "to_drop_hicorr = [column for column in upper.columns if any(upper[column] > 0.7)]"
   ]
  },
  {
   "cell_type": "code",
   "execution_count": 579,
   "id": "444076e3",
   "metadata": {},
   "outputs": [
    {
     "data": {
      "text/plain": [
       "[]"
      ]
     },
     "execution_count": 579,
     "metadata": {},
     "output_type": "execute_result"
    }
   ],
   "source": [
    "to_drop_hicorr"
   ]
  },
  {
   "cell_type": "code",
   "execution_count": 580,
   "id": "784ce777",
   "metadata": {},
   "outputs": [],
   "source": [
    "seasons.drop(to_drop_hicorr, axis=1, inplace=True)"
   ]
  },
  {
   "cell_type": "code",
   "execution_count": 581,
   "id": "065a1def",
   "metadata": {},
   "outputs": [
    {
     "data": {
      "text/html": [
       "<div>\n",
       "<style scoped>\n",
       "    .dataframe tbody tr th:only-of-type {\n",
       "        vertical-align: middle;\n",
       "    }\n",
       "\n",
       "    .dataframe tbody tr th {\n",
       "        vertical-align: top;\n",
       "    }\n",
       "\n",
       "    .dataframe thead th {\n",
       "        text-align: right;\n",
       "    }\n",
       "</style>\n",
       "<table border=\"1\" class=\"dataframe\">\n",
       "  <thead>\n",
       "    <tr style=\"text-align: right;\">\n",
       "      <th></th>\n",
       "      <th>commodityName</th>\n",
       "      <th>size</th>\n",
       "      <th>phase</th>\n",
       "      <th>dateTimeLine</th>\n",
       "      <th>activities</th>\n",
       "      <th>activitiesCommodity</th>\n",
       "      <th>isActive</th>\n",
       "      <th>varietyName</th>\n",
       "      <th>datePlanted</th>\n",
       "      <th>fishPopulation</th>\n",
       "      <th>modifiedBy</th>\n",
       "      <th>budgetPlanId</th>\n",
       "      <th>poolName</th>\n",
       "    </tr>\n",
       "  </thead>\n",
       "  <tbody>\n",
       "    <tr>\n",
       "      <th>0</th>\n",
       "      <td>Padi</td>\n",
       "      <td>0.60</td>\n",
       "      <td>{\"distilled\":false,\"fertilized\":false,\"harvest...</td>\n",
       "      <td>[]</td>\n",
       "      <td>{\"delivery\":false,\"distilled\":false,\"fertilize...</td>\n",
       "      <td>{\"delivery\":true,\"distilled\":true,\"fertilized\"...</td>\n",
       "      <td>True</td>\n",
       "      <td>Inpari</td>\n",
       "      <td>2021-05-11T18:30:00.000Z</td>\n",
       "      <td>0</td>\n",
       "      <td>ae63e9bc-e319-45ce-9b2a-b3fb86e0ca76</td>\n",
       "      <td>NaN</td>\n",
       "      <td>NaN</td>\n",
       "    </tr>\n",
       "    <tr>\n",
       "      <th>1</th>\n",
       "      <td>Bawang Putih</td>\n",
       "      <td>0.35</td>\n",
       "      <td>{\"distilled\":false,\"fertilized\":false,\"harvest...</td>\n",
       "      <td>[]</td>\n",
       "      <td>{\"delivery\":false,\"distilled\":true,\"fertilized...</td>\n",
       "      <td>{\"delivery\":true,\"distilled\":true,\"fertilized\"...</td>\n",
       "      <td>True</td>\n",
       "      <td>NaN</td>\n",
       "      <td>NaN</td>\n",
       "      <td>0</td>\n",
       "      <td>NaN</td>\n",
       "      <td>NaN</td>\n",
       "      <td>NaN</td>\n",
       "    </tr>\n",
       "    <tr>\n",
       "      <th>2</th>\n",
       "      <td>Padi</td>\n",
       "      <td>0.40</td>\n",
       "      <td>{\"distilled\":false,\"fertilized\":false,\"harvest...</td>\n",
       "      <td>[]</td>\n",
       "      <td>{\"delivery\":true,\"distilled\":true,\"fertilized\"...</td>\n",
       "      <td>{\"delivery\":true,\"distilled\":true,\"fertilized\"...</td>\n",
       "      <td>True</td>\n",
       "      <td>Ciherang</td>\n",
       "      <td>2021-10-27T00:00:00.000Z</td>\n",
       "      <td>0</td>\n",
       "      <td>0a2462bb-848c-4869-95e0-fd1c755a8819</td>\n",
       "      <td>NaN</td>\n",
       "      <td>NaN</td>\n",
       "    </tr>\n",
       "    <tr>\n",
       "      <th>3</th>\n",
       "      <td>Jeruk</td>\n",
       "      <td>1.00</td>\n",
       "      <td>{\"distilled\":false,\"fertilized\":true,\"harveste...</td>\n",
       "      <td>[]</td>\n",
       "      <td>{\"delivery\":false,\"distilled\":false,\"fertilize...</td>\n",
       "      <td>{\"delivery\":true,\"distilled\":true,\"fertilized\"...</td>\n",
       "      <td>False</td>\n",
       "      <td>RGL Hantang</td>\n",
       "      <td>2021-08-19T17:00:00.000Z</td>\n",
       "      <td>0</td>\n",
       "      <td>79e7023f-f280-45ab-83b1-098a6e69e961</td>\n",
       "      <td>NaN</td>\n",
       "      <td>NaN</td>\n",
       "    </tr>\n",
       "    <tr>\n",
       "      <th>4</th>\n",
       "      <td>Cabai</td>\n",
       "      <td>0.50</td>\n",
       "      <td>{\"distilled\":false,\"fertilized\":false,\"harvest...</td>\n",
       "      <td>[]</td>\n",
       "      <td>{\"delivery\":false,\"distilled\":true,\"fertilized...</td>\n",
       "      <td>{\"delivery\":true,\"distilled\":true,\"fertilized\"...</td>\n",
       "      <td>True</td>\n",
       "      <td>NaN</td>\n",
       "      <td>NaN</td>\n",
       "      <td>0</td>\n",
       "      <td>NaN</td>\n",
       "      <td>NaN</td>\n",
       "      <td>NaN</td>\n",
       "    </tr>\n",
       "  </tbody>\n",
       "</table>\n",
       "</div>"
      ],
      "text/plain": [
       "  commodityName  size                                              phase  \\\n",
       "0          Padi  0.60  {\"distilled\":false,\"fertilized\":false,\"harvest...   \n",
       "1  Bawang Putih  0.35  {\"distilled\":false,\"fertilized\":false,\"harvest...   \n",
       "2          Padi  0.40  {\"distilled\":false,\"fertilized\":false,\"harvest...   \n",
       "3         Jeruk  1.00  {\"distilled\":false,\"fertilized\":true,\"harveste...   \n",
       "4         Cabai  0.50  {\"distilled\":false,\"fertilized\":false,\"harvest...   \n",
       "\n",
       "  dateTimeLine                                         activities  \\\n",
       "0           []  {\"delivery\":false,\"distilled\":false,\"fertilize...   \n",
       "1           []  {\"delivery\":false,\"distilled\":true,\"fertilized...   \n",
       "2           []  {\"delivery\":true,\"distilled\":true,\"fertilized\"...   \n",
       "3           []  {\"delivery\":false,\"distilled\":false,\"fertilize...   \n",
       "4           []  {\"delivery\":false,\"distilled\":true,\"fertilized...   \n",
       "\n",
       "                                 activitiesCommodity  isActive  varietyName  \\\n",
       "0  {\"delivery\":true,\"distilled\":true,\"fertilized\"...      True       Inpari   \n",
       "1  {\"delivery\":true,\"distilled\":true,\"fertilized\"...      True          NaN   \n",
       "2  {\"delivery\":true,\"distilled\":true,\"fertilized\"...      True     Ciherang   \n",
       "3  {\"delivery\":true,\"distilled\":true,\"fertilized\"...     False  RGL Hantang   \n",
       "4  {\"delivery\":true,\"distilled\":true,\"fertilized\"...      True          NaN   \n",
       "\n",
       "                datePlanted fishPopulation  \\\n",
       "0  2021-05-11T18:30:00.000Z              0   \n",
       "1                       NaN              0   \n",
       "2  2021-10-27T00:00:00.000Z              0   \n",
       "3  2021-08-19T17:00:00.000Z              0   \n",
       "4                       NaN              0   \n",
       "\n",
       "                             modifiedBy budgetPlanId poolName  \n",
       "0  ae63e9bc-e319-45ce-9b2a-b3fb86e0ca76          NaN      NaN  \n",
       "1                                   NaN          NaN      NaN  \n",
       "2  0a2462bb-848c-4869-95e0-fd1c755a8819          NaN      NaN  \n",
       "3  79e7023f-f280-45ab-83b1-098a6e69e961          NaN      NaN  \n",
       "4                                   NaN          NaN      NaN  "
      ]
     },
     "execution_count": 581,
     "metadata": {},
     "output_type": "execute_result"
    }
   ],
   "source": [
    "seasons.head()"
   ]
  },
  {
   "cell_type": "code",
   "execution_count": 582,
   "id": "c7e52df1",
   "metadata": {
    "scrolled": true
   },
   "outputs": [
    {
     "data": {
      "text/plain": [
       "commodityName          28\n",
       "size                   77\n",
       "phase                  15\n",
       "dateTimeLine            1\n",
       "activities             15\n",
       "activitiesCommodity     4\n",
       "isActive                2\n",
       "varietyName            28\n",
       "datePlanted            91\n",
       "fishPopulation          3\n",
       "modifiedBy             94\n",
       "budgetPlanId            2\n",
       "poolName                5\n",
       "dtype: int64"
      ]
     },
     "execution_count": 582,
     "metadata": {},
     "output_type": "execute_result"
    }
   ],
   "source": [
    "seasons.nunique()"
   ]
  },
  {
   "cell_type": "code",
   "execution_count": 583,
   "id": "2a7fd39a",
   "metadata": {},
   "outputs": [
    {
     "data": {
      "text/plain": [
       "True     90.322581\n",
       "False     9.677419\n",
       "Name: isActive, dtype: float64"
      ]
     },
     "execution_count": 583,
     "metadata": {},
     "output_type": "execute_result"
    }
   ],
   "source": [
    "seasons.isActive.value_counts(normalize=True)*100"
   ]
  },
  {
   "cell_type": "markdown",
   "id": "244eb693",
   "metadata": {},
   "source": [
    "# Eksploratory Data Analysis\n",
    "\n",
    "**INFORMASI PANEN**"
   ]
  },
  {
   "cell_type": "code",
   "execution_count": 588,
   "id": "05176786",
   "metadata": {},
   "outputs": [
    {
     "data": {
      "text/plain": [
       "<AxesSubplot:xlabel='count', ylabel='name'>"
      ]
     },
     "execution_count": 588,
     "metadata": {},
     "output_type": "execute_result"
    },
    {
     "data": {
      "image/png": "[encoded data removed]",
      "text/plain": [
       "<Figure size 432x288 with 1 Axes>"
      ]
     },
     "metadata": {
      "needs_background": "light"
     },
     "output_type": "display_data"
    }
   ],
   "source": [
    "sns.countplot(data=harvest, y='name')"
   ]
  },
  {
   "cell_type": "code",
   "execution_count": 589,
   "id": "7975fb38",
   "metadata": {},
   "outputs": [
    {
     "data": {
      "text/plain": [
       "<AxesSubplot:xlabel='count', ylabel='commodityName'>"
      ]
     },
     "execution_count": 589,
     "metadata": {},
     "output_type": "execute_result"
    },
    {
     "data": {
      "image/png": "[encoded data removed]",
      "text/plain": [
       "<Figure size 1440x720 with 1 Axes>"
      ]
     },
     "metadata": {
      "needs_background": "light"
     },
     "output_type": "display_data"
    }
   ],
   "source": [
    "plt.figure(figsize=(20,10))\n",
    "sns.countplot(data=harvest, y='commodityName')"
   ]
  },
  {
   "cell_type": "code",
   "execution_count": 590,
   "id": "482b14d4",
   "metadata": {
    "scrolled": true
   },
   "outputs": [
    {
     "data": {
      "text/plain": [
       "<AxesSubplot:xlabel='repeat', ylabel='count'>"
      ]
     },
     "execution_count": 590,
     "metadata": {},
     "output_type": "execute_result"
    },
    {
     "data": {
      "image/png": "[encoded data removed]",
      "text/plain": [
       "<Figure size 1440x720 with 1 Axes>"
      ]
     },
     "metadata": {
      "needs_background": "light"
     },
     "output_type": "display_data"
    }
   ],
   "source": [
    "plt.figure(figsize=(20,10))\n",
    "sns.countplot(data=harvest, x='repeat')"
   ]
  },
  {
   "cell_type": "code",
   "execution_count": 591,
   "id": "9ed998e9",
   "metadata": {
    "scrolled": false
   },
   "outputs": [
    {
     "data": {
      "text/plain": [
       "<AxesSubplot:>"
      ]
     },
     "execution_count": 591,
     "metadata": {},
     "output_type": "execute_result"
    },
    {
     "data": {
      "image/png": "[encoded data removed]",
      "text/plain": [
       "<Figure size 1440x720 with 1 Axes>"
      ]
     },
     "metadata": {
      "needs_background": "light"
     },
     "output_type": "display_data"
    }
   ],
   "source": [
    "plt.figure(figsize=(20,10))\n",
    "harvest['order'].hist(bins=5, grid=False)"
   ]
  },
  {
   "cell_type": "markdown",
   "id": "0a8ccf8e",
   "metadata": {},
   "source": [
    "**CORRELATION MATRIX**"
   ]
  },
  {
   "cell_type": "code",
   "execution_count": 597,
   "id": "ef37ef5c",
   "metadata": {
    "scrolled": false
   },
   "outputs": [
    {
     "data": {
      "text/plain": [
       "<AxesSubplot:>"
      ]
     },
     "execution_count": 597,
     "metadata": {},
     "output_type": "execute_result"
    },
    {
     "data": {
      "image/png": "[encoded data removed]",
      "text/plain": [
       "<Figure size 1440x1440 with 2 Axes>"
      ]
     },
     "metadata": {
      "needs_background": "light"
     },
     "output_type": "display_data"
    }
   ],
   "source": [
    "plt.figure(figsize=(20,20))\n",
    "sns.heatmap(harvest.corr())"
   ]
  },
  {
   "cell_type": "markdown",
   "id": "b77ded8f",
   "metadata": {},
   "source": [
    "# KESIMPULAN\n",
    "\n",
    "1. Dataset pada ketiga tabel masih banyak ditemukan fitur-fitur yang memiliki nilai null >75% sehingga feature tersebut harus dihilangkan terutama pada dataset informasi lahan\n",
    "2. Agar memaksimalkan pemodelan diharapkan tidak memiliki nilai null >75% terutama pada featur yang penting\n",
    "3. Pada data dengan nilai null yang sedikit bisa dilakukan handling missing value dengan memasukan nilai2 tertentu\n",
    "3. Pemodelan yang kemungkinan bisa dilakukan yaitu : \n",
    "    - Data info lahan (prediksi komoditas yang sesuai untuk kondidisi lahan tersebut, prediksi potensi produksi)\n",
    "    - Data info aktivitas tanam (prediksi aktif/tidak petani dalam melakukan aktivitas tanam)\n",
    "    - Data info panen (prediksi waktu panen, prediksi order)\n",
    "4. Untuk membuat pemodelan diperlukan penentuan label/target terlebih dahulu untuk membuat model prediksi dan menghilangkan fitur-fitur yang tidak diperlukan\n",
    "5. Dari hasil correlation matrix jika jika ada pasangan fitur-fitur yang memiliki korelasi tinggi maka akan diambil salah satu saja. Nilai korelasi yang dijadikan patokan sebagai korelasi tinggi tidak pasti, umumnya digunakan angka 0.7."
   ]
  }
 ],
 "metadata": {
  "kernelspec": {
   "display_name": "Python 3 (ipykernel)",
   "language": "python",
   "name": "python3"
  },
  "language_info": {
   "codemirror_mode": {
    "name": "ipython",
    "version": 3
   },
   "file_extension": ".py",
   "mimetype": "text/x-python",
   "name": "python",
   "nbconvert_exporter": "python",
   "pygments_lexer": "ipython3",
   "version": "3.10.0"
  }
 },
 "nbformat": 4,
 "nbformat_minor": 5
}
