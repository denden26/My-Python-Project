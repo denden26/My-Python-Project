{
  "nbformat": 4,
  "nbformat_minor": 0,
  "metadata": {
    "colab": {
      "name": " Project Machine Learning with Python: Building Recommender System",
      "provenance": [],
      "authorship_tag": "ABX9TyNwD40Ew8Mi1N/7rAjZwSnY",
      "include_colab_link": true
    },
    "kernelspec": {
      "name": "python3",
      "display_name": "Python 3"
    },
    "language_info": {
      "name": "python"
    }
  },
  "cells": [
    {
      "cell_type": "markdown",
      "metadata": {
        "id": "view-in-github",
        "colab_type": "text"
      },
      "source": [
        "<a href=\"https://colab.research.google.com/github/denden26/My-Python-Project/blob/main/Project_Machine_Learning_with_Python_Building_Recommender_System.ipynb\" target=\"_parent\"><img src=\"https://colab.research.google.com/assets/colab-badge.svg\" alt=\"Open In Colab\"/></a>"
      ]
    },
    {
      "cell_type": "markdown",
      "source": [
        "**Project Machine Learning with Python: Building Recommender System\n",
        "Denden Dilah Al-zikri (30/01/2021)**\n",
        "\n",
        "**Latar Belakang**\n",
        "\n",
        "**Sistem Rekomendasi Sederhana,** seperti namanya adalah sistem rekomendasi yang hanya menggunakan urutan sebagai dasar perhitungannya, yang biasanya digunakan dalam '5 film terbaik' kita akan menggunakan urutan berdasarkan mungkin vote terbanyak, rating tertinggi, penjualan film paling tinggi, atau apapun yang lain.\n",
        "Dalam kasus ini, kita akan menggunakan kombinasi antara rata-rata rating, jumlah vote, dan membentuk metric baru dari metric yang sudah ada, kemudian kita akan melakukan sorting untuk metric ini dari yang tertinggi ke terendah.\n",
        "\n",
        "**Simple Recommender Engine using Weighted Average**\n",
        "\n",
        "Ide awal di balik sistem rekomendasi ini adalah sebagai berikut.\n",
        "\n",
        "Film-film yang lebih populer akan memiliki kemungkinan yang lebih besar untuk disukai juga oleh rata-rata penonton.\n",
        "Model ini tidak memberikan rekomendasi yang personal untuk setiap tipe user. \n",
        "Implementasi model ini pun juga bisa dibilang cukup mudah, yang perlu kita lakukan hanyalah mengurutkan film-film tersebut berdasarkan rating dan popularitas dan menunjukkan film teratas dari list film tersebut.\n",
        "Sebagai tambahan, kita dapat menambahkan genre untuk mendapatkan film teratas untuk genre spesifik tersebut.\n",
        "\n",
        "**Formula dari IMDB dengan Weighted Rating**\n",
        "![download (5).png](data:image/png;base64,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)\n",
        "\n",
        "dimana,\n",
        "\n",
        "v: jumlah votes untuk film tersebut\n",
        "\n",
        "m: jumlah minimum votes yang dibutuhkan supaya dapat masuk dalam chart\n",
        "\n",
        "R: rata-rata rating dari film tersebut\n",
        "\n",
        "C: rata-rata jumlah votes dari seluruh semesta film"
      ],
      "metadata": {
        "id": "YtqD1iV7Al-F"
      }
    },
    {
      "cell_type": "code",
      "execution_count": null,
      "metadata": {
        "colab": {
          "base_uri": "https://localhost:8080/"
        },
        "id": "DVCw-8y2ACj0",
        "outputId": "fba625d2-fe12-41c0-94ed-19811728d41c"
      },
      "outputs": [
        {
          "output_type": "stream",
          "name": "stdout",
          "text": [
            "         tconst  titleType                                       primaryTitle  \\\n",
            "0     tt0221078      short                          Circle Dance, Ute Indians   \n",
            "1     tt8862466  tvEpisode   ¡El #TeamOsos va con todo al \"Reality del amor\"!   \n",
            "2     tt7157720  tvEpisode                                      Episode #3.41   \n",
            "3     tt2974998  tvEpisode                          Episode dated 16 May 1987   \n",
            "4     tt2903620  tvEpisode                   Frances Bavier: Aunt Bee Retires   \n",
            "...         ...        ...                                                ...   \n",
            "9020  tt3984412  tvEpisode  I'm Not Going to Come Last, I'm Just Going to ...   \n",
            "9021  tt8740950  tvEpisode  Weight Loss Resolution Restart - Ins & Outs of...   \n",
            "9022  tt9822816  tvEpisode  Zwischen Vertuschung und Aufklärung - Missbrau...   \n",
            "9023  tt9900062  tvEpisode  The Direction of Yuu's Love: Hings Aren't Goin...   \n",
            "9024  tt9909210  tvEpisode  Politik und/oder Moral - Wie weit geht das Ver...   \n",
            "\n",
            "                                         originalTitle  isAdult startYear  \\\n",
            "0                            Circle Dance, Ute Indians        0      1898   \n",
            "1     ¡El #TeamOsos va con todo al \"Reality del amor\"!        0      2018   \n",
            "2                                        Episode #3.41        0      2016   \n",
            "3                            Episode dated 16 May 1987        0      1987   \n",
            "4                     Frances Bavier: Aunt Bee Retires        0      1973   \n",
            "...                                                ...      ...       ...   \n",
            "9020                                                 0     2014        \\N   \n",
            "9021                                                 0     2015        \\N   \n",
            "9022                                                 0     2019        \\N   \n",
            "9023                                                 0     1994        \\N   \n",
            "9024                                                 0     2005        \\N   \n",
            "\n",
            "     endYear          runtimeMinutes             genres  \n",
            "0         \\N                      \\N  Documentary,Short  \n",
            "1         \\N                      \\N       Comedy,Drama  \n",
            "2         \\N                      29   Comedy,Game-Show  \n",
            "3         \\N                      \\N               News  \n",
            "4         \\N                      \\N        Documentary  \n",
            "...      ...                     ...                ...  \n",
            "9020      \\N              Reality-TV                NaN  \n",
            "9021      \\N              Reality-TV                NaN  \n",
            "9022      \\N                      \\N                NaN  \n",
            "9023      \\N  Animation,Comedy,Drama                NaN  \n",
            "9024      \\N                      \\N                NaN  \n",
            "\n",
            "[9025 rows x 9 columns]\n",
            "            tconst  averageRating  numVotes\n",
            "0        tt0000001            5.6      1608\n",
            "1        tt0000002            6.0       197\n",
            "2        tt0000003            6.5      1285\n",
            "3        tt0000004            6.1       121\n",
            "4        tt0000005            6.1      2050\n",
            "...            ...            ...       ...\n",
            "1030004  tt9916576            6.0         9\n",
            "1030005  tt9916578            8.4        17\n",
            "1030006  tt9916720            5.6        49\n",
            "1030007  tt9916766            6.8        13\n",
            "1030008  tt9916778            7.2        21\n",
            "\n",
            "[1030009 rows x 3 columns]\n"
          ]
        }
      ],
      "source": [
        "#import library yang dibutuhkan\n",
        "import pandas as pd\n",
        "import numpy as np\n",
        "pd.set_option('display.max_columns', None)\n",
        "\n",
        "#lakukan pembacaan dataset\n",
        "movie_df = pd.read_csv('https://storage.googleapis.com/dqlab-dataset/title.basics.tsv', sep='\\t') #untuk menyimpan title_basics.tsv\n",
        "rating_df = pd.read_csv('https://storage.googleapis.com/dqlab-dataset/title.ratings.tsv', sep='\\t') #untuk menyimpan title.ratings.tsv\n",
        "print(movie_df)\n",
        "print(rating_df)"
      ]
    },
    {
      "cell_type": "code",
      "source": [
        "# 5 Data teratas dari table movie\n",
        "print(movie_df.head())"
      ],
      "metadata": {
        "colab": {
          "base_uri": "https://localhost:8080/"
        },
        "id": "BBDC6psGAFeW",
        "outputId": "0ee12d37-8df3-4f65-c634-e5d83464a2c5"
      },
      "execution_count": null,
      "outputs": [
        {
          "output_type": "stream",
          "name": "stdout",
          "text": [
            "      tconst  titleType                                      primaryTitle  \\\n",
            "0  tt0221078      short                         Circle Dance, Ute Indians   \n",
            "1  tt8862466  tvEpisode  ¡El #TeamOsos va con todo al \"Reality del amor\"!   \n",
            "2  tt7157720  tvEpisode                                     Episode #3.41   \n",
            "3  tt2974998  tvEpisode                         Episode dated 16 May 1987   \n",
            "4  tt2903620  tvEpisode                  Frances Bavier: Aunt Bee Retires   \n",
            "\n",
            "                                      originalTitle  isAdult startYear  \\\n",
            "0                         Circle Dance, Ute Indians        0      1898   \n",
            "1  ¡El #TeamOsos va con todo al \"Reality del amor\"!        0      2018   \n",
            "2                                     Episode #3.41        0      2016   \n",
            "3                         Episode dated 16 May 1987        0      1987   \n",
            "4                  Frances Bavier: Aunt Bee Retires        0      1973   \n",
            "\n",
            "  endYear runtimeMinutes             genres  \n",
            "0      \\N             \\N  Documentary,Short  \n",
            "1      \\N             \\N       Comedy,Drama  \n",
            "2      \\N             29   Comedy,Game-Show  \n",
            "3      \\N             \\N               News  \n",
            "4      \\N             \\N        Documentary  \n"
          ]
        }
      ]
    },
    {
      "cell_type": "code",
      "source": [
        "# Info Data dari Setiap Kolom\n",
        "print(movie_df.info())"
      ],
      "metadata": {
        "colab": {
          "base_uri": "https://localhost:8080/"
        },
        "id": "L1vZPxTaAf4a",
        "outputId": "67cb62df-2348-497d-d675-ae9900088f20"
      },
      "execution_count": null,
      "outputs": [
        {
          "output_type": "stream",
          "name": "stdout",
          "text": [
            "<class 'pandas.core.frame.DataFrame'>\n",
            "RangeIndex: 9025 entries, 0 to 9024\n",
            "Data columns (total 9 columns):\n",
            " #   Column          Non-Null Count  Dtype \n",
            "---  ------          --------------  ----- \n",
            " 0   tconst          9025 non-null   object\n",
            " 1   titleType       9025 non-null   object\n",
            " 2   primaryTitle    9011 non-null   object\n",
            " 3   originalTitle   9011 non-null   object\n",
            " 4   isAdult         9025 non-null   int64 \n",
            " 5   startYear       9025 non-null   object\n",
            " 6   endYear         9025 non-null   object\n",
            " 7   runtimeMinutes  9025 non-null   object\n",
            " 8   genres          9014 non-null   object\n",
            "dtypes: int64(1), object(8)\n",
            "memory usage: 634.7+ KB\n",
            "None\n"
          ]
        }
      ]
    },
    {
      "cell_type": "code",
      "source": [
        "# Pengecekan Data dengan Nilai NULL\n",
        "print(movie_df.isnull().sum())"
      ],
      "metadata": {
        "colab": {
          "base_uri": "https://localhost:8080/"
        },
        "id": "xJ-mBQTGCCXg",
        "outputId": "4e4292dc-d04d-43e1-de4d-36b87a224f4b"
      },
      "execution_count": null,
      "outputs": [
        {
          "output_type": "stream",
          "name": "stdout",
          "text": [
            "tconst             0\n",
            "titleType          0\n",
            "primaryTitle      14\n",
            "originalTitle     14\n",
            "isAdult            0\n",
            "startYear          0\n",
            "endYear            0\n",
            "runtimeMinutes     0\n",
            "genres            11\n",
            "dtype: int64\n"
          ]
        }
      ]
    },
    {
      "cell_type": "code",
      "source": [
        "# Analisis Kolom dengan data bernilai NULL - part 1\n",
        "print(movie_df.loc[(movie_df['primaryTitle'].isnull()) | (movie_df['originalTitle'].isnull())])"
      ],
      "metadata": {
        "colab": {
          "base_uri": "https://localhost:8080/"
        },
        "id": "qSYvYpYpCG1Y",
        "outputId": "9b54e252-ae59-4b8c-eeab-7ca783c6f372"
      },
      "execution_count": null,
      "outputs": [
        {
          "output_type": "stream",
          "name": "stdout",
          "text": [
            "          tconst  titleType primaryTitle originalTitle  isAdult startYear  \\\n",
            "9000  tt10790040  tvEpisode          NaN           NaN        0      2019   \n",
            "9001  tt10891902  tvEpisode          NaN           NaN        0      2020   \n",
            "9002  tt11737860  tvEpisode          NaN           NaN        0      2020   \n",
            "9003  tt11737862  tvEpisode          NaN           NaN        0      2020   \n",
            "9004  tt11737866  tvEpisode          NaN           NaN        0      2020   \n",
            "9005  tt11737872  tvEpisode          NaN           NaN        0      2020   \n",
            "9006  tt11737874  tvEpisode          NaN           NaN        0      2020   \n",
            "9007   tt1971246  tvEpisode          NaN           NaN        0      2011   \n",
            "9008   tt2067043  tvEpisode          NaN           NaN        0      1965   \n",
            "9009   tt4404732  tvEpisode          NaN           NaN        0      2015   \n",
            "9010   tt5773048  tvEpisode          NaN           NaN        0      2015   \n",
            "9011   tt8473688  tvEpisode          NaN           NaN        0      1987   \n",
            "9012   tt8541336  tvEpisode          NaN           NaN        0      2018   \n",
            "9013   tt9824302  tvEpisode          NaN           NaN        0      2016   \n",
            "\n",
            "     endYear runtimeMinutes                genres  \n",
            "9000      \\N             \\N                    \\N  \n",
            "9001      \\N             \\N                 Crime  \n",
            "9002      \\N             \\N  Comedy,Drama,Romance  \n",
            "9003      \\N             \\N  Comedy,Drama,Romance  \n",
            "9004      \\N             \\N  Comedy,Drama,Romance  \n",
            "9005      \\N             \\N                    \\N  \n",
            "9006      \\N             \\N  Comedy,Drama,Romance  \n",
            "9007      \\N             \\N             Biography  \n",
            "9008      \\N             \\N                 Music  \n",
            "9009      \\N             \\N                Comedy  \n",
            "9010      \\N             \\N             Talk-Show  \n",
            "9011      \\N             \\N                 Drama  \n",
            "9012      \\N             \\N    Reality-TV,Romance  \n",
            "9013      \\N             \\N           Documentary  \n"
          ]
        }
      ]
    },
    {
      "cell_type": "code",
      "source": [
        "# Membuang Data dengan Nilai NULL - part 1\n",
        "#mengupdate movie_df dengan membuang data-data bernilai NULL\n",
        "movie_df = movie_df.loc[(movie_df['primaryTitle'].notnull()) & (movie_df['originalTitle'].notnull())]\n",
        "\n",
        "#menampilkan jumlah data setelah data dengan nilai NULL dibuang\n",
        "print(len(movie_df))"
      ],
      "metadata": {
        "colab": {
          "base_uri": "https://localhost:8080/"
        },
        "id": "iFl6Y1ZUCKUS",
        "outputId": "e79604c5-4b6a-41f4-f7cc-0c3ad2ae4af3"
      },
      "execution_count": null,
      "outputs": [
        {
          "output_type": "stream",
          "name": "stdout",
          "text": [
            "9011\n"
          ]
        }
      ]
    },
    {
      "cell_type": "code",
      "source": [
        "# Analisis Kolom dengan data bernilai NULL - part 2\n",
        "print(movie_df.loc[movie_df['genres'].isnull()])"
      ],
      "metadata": {
        "colab": {
          "base_uri": "https://localhost:8080/"
        },
        "id": "T0OjepmGCrHL",
        "outputId": "f328e723-92a7-4b98-dff5-e8200e208b7c"
      },
      "execution_count": null,
      "outputs": [
        {
          "output_type": "stream",
          "name": "stdout",
          "text": [
            "Empty DataFrame\n",
            "Columns: [tconst, titleType, primaryTitle, originalTitle, isAdult, startYear, endYear, runtimeMinutes, genres]\n",
            "Index: []\n"
          ]
        }
      ]
    },
    {
      "cell_type": "code",
      "source": [
        "# Membuang Data dengan Nilai NULL - part 2\n",
        "#mengupdate movie_df dengan membuang data-data bernilai NULL\n",
        "movie_df = movie_df.loc[movie_df['genres'].notnull()]\n",
        "\n",
        "#menampilkan jumlah data setelah data dengan nilai NULL dibuang\n",
        "print(len(movie_df))"
      ],
      "metadata": {
        "colab": {
          "base_uri": "https://localhost:8080/"
        },
        "id": "HmXesOUKC0rb",
        "outputId": "da439717-7536-4336-e99b-e52714abaaa2"
      },
      "execution_count": null,
      "outputs": [
        {
          "output_type": "stream",
          "name": "stdout",
          "text": [
            "9000\n"
          ]
        }
      ]
    },
    {
      "cell_type": "code",
      "source": [
        "# Mengubah nilai '\\\\N'\n",
        "import pandas as pd\n",
        "import numpy as np\n",
        "pd.set_option('display.max_columns', None)\n",
        "\n",
        "movie_df = pd.read_csv('https://storage.googleapis.com/dqlab-dataset/title.basics.tsv', sep='\\t')\n",
        "\n",
        "movie_df = movie_df.loc[(movie_df['primaryTitle'].notnull()) & (movie_df['originalTitle'].notnull())]\n",
        "movie_df = movie_df.loc[movie_df['genres'].notnull()]\n",
        "\n",
        "#mengubah nilai '\\\\N' pada startYear menjadi np.nan dan cast kolomnya menjadi float64\n",
        "movie_df['startYear'] = movie_df['startYear']. replace('\\\\N', np.nan)\n",
        "movie_df['startYear'] = movie_df['startYear']. astype('float64')\n",
        "print(movie_df['startYear'].unique()[:5])\n",
        "\n",
        "#mengubah nilai '\\\\N' pada endYear menjadi np.nan dan cast kolomnya menjadi float64\n",
        "movie_df['endYear'] = movie_df['endYear']. replace('\\\\N', np.nan)\n",
        "movie_df['endYear'] = movie_df['endYear']. astype('float64')\n",
        "print(movie_df['endYear'].unique()[:5])\n",
        "\n",
        "#mengubah nilai '\\\\N' pada runtimeMinutes menjadi np.nan dan cast kolomnya menjadi float64\n",
        "movie_df['runtimeMinutes'] = movie_df['runtimeMinutes']. replace('\\\\N', np.nan)\n",
        "movie_df['runtimeMinutes'] = movie_df['runtimeMinutes']. astype('float64')\n",
        "print(movie_df['runtimeMinutes'].unique()[:5])"
      ],
      "metadata": {
        "colab": {
          "base_uri": "https://localhost:8080/"
        },
        "id": "QrgbqGoKC7Fn",
        "outputId": "c6a9eac9-8c9c-4f2f-b95f-e14125de4c15"
      },
      "execution_count": null,
      "outputs": [
        {
          "output_type": "stream",
          "name": "stdout",
          "text": [
            "[1898. 2018. 2016. 1987. 1973.]\n",
            "[  nan 2005. 1955. 2006. 1999.]\n",
            "[nan 29.  7. 23. 85.]\n"
          ]
        }
      ]
    },
    {
      "cell_type": "code",
      "source": [
        "# Mengubah nilai genres menjadi list\n",
        "import pandas as pd\n",
        "import numpy as np\n",
        "pd.set_option('display.max_columns', None)\n",
        "\n",
        "movie_df = pd.read_csv('https://storage.googleapis.com/dqlab-dataset/title.basics.tsv', sep='\\t')\n",
        "\n",
        "movie_df = movie_df.loc[(movie_df['primaryTitle'].notnull()) & (movie_df['originalTitle'].notnull())]\n",
        "movie_df = movie_df.loc[movie_df['genres'].notnull()]\n",
        "movie_df['startYear'] = movie_df['startYear'].replace('\\\\N', np.nan)\n",
        "movie_df['startYear'] = movie_df['startYear'].astype('float64')\n",
        "movie_df['endYear'] = movie_df['endYear'].replace('\\\\N', np.nan)\n",
        "movie_df['endYear'] = movie_df['endYear'].astype('float64')\n",
        "movie_df['runtimeMinutes'] = movie_df['runtimeMinutes'].replace('\\\\N', np.nan)\n",
        "movie_df['runtimeMinutes'] = movie_df['runtimeMinutes'].astype('float64')\n",
        "\n",
        "def transform_to_list(x):\n",
        "    if ',' in x: \n",
        "    #ubah menjadi list apabila ada data pada kolom genre\n",
        "        return x.split(',')\n",
        "    else: \n",
        "    #jika tidak ada data, ubah menjadi list kosong\n",
        "        return []\n",
        "\n",
        "movie_df['genres'] = movie_df['genres'].apply(lambda x: transform_to_list(x))"
      ],
      "metadata": {
        "id": "OGVRqTRuEE8w"
      },
      "execution_count": null,
      "outputs": []
    },
    {
      "cell_type": "code",
      "source": [
        "# Menampilkan 5 data teratas\n",
        "print(rating_df.head())"
      ],
      "metadata": {
        "colab": {
          "base_uri": "https://localhost:8080/"
        },
        "id": "5-0PmRWuEJkC",
        "outputId": "e9161a8e-b6fc-4553-a9cd-650a8d7e3d8d"
      },
      "execution_count": null,
      "outputs": [
        {
          "output_type": "stream",
          "name": "stdout",
          "text": [
            "      tconst  averageRating  numVotes\n",
            "0  tt0000001            5.6      1608\n",
            "1  tt0000002            6.0       197\n",
            "2  tt0000003            6.5      1285\n",
            "3  tt0000004            6.1       121\n",
            "4  tt0000005            6.1      2050\n"
          ]
        }
      ]
    },
    {
      "cell_type": "code",
      "source": [
        "# Menampilkan info data\n",
        "print(rating_df.info())"
      ],
      "metadata": {
        "colab": {
          "base_uri": "https://localhost:8080/"
        },
        "id": "eliscgBLEMwQ",
        "outputId": "64c11367-056c-4fdd-c7c3-df240e2c5492"
      },
      "execution_count": null,
      "outputs": [
        {
          "output_type": "stream",
          "name": "stdout",
          "text": [
            "<class 'pandas.core.frame.DataFrame'>\n",
            "RangeIndex: 1030009 entries, 0 to 1030008\n",
            "Data columns (total 3 columns):\n",
            " #   Column         Non-Null Count    Dtype  \n",
            "---  ------         --------------    -----  \n",
            " 0   tconst         1030009 non-null  object \n",
            " 1   averageRating  1030009 non-null  float64\n",
            " 2   numVotes       1030009 non-null  int64  \n",
            "dtypes: float64(1), int64(1), object(1)\n",
            "memory usage: 23.6+ MB\n",
            "None\n"
          ]
        }
      ]
    },
    {
      "cell_type": "code",
      "source": [
        "# Inner Join table movie dan table rating\n",
        "#Lakukan join pada kedua table\n",
        "movie_rating_df = pd.merge(movie_df,rating_df,on='tconst',how='inner')\n",
        "\n",
        "#Tampilkan 5 data teratas\n",
        "print(movie_rating_df.head())\n",
        "\n",
        "#Tampilkan tipe data dari tiap kolom\n",
        "print(movie_rating_df.info())"
      ],
      "metadata": {
        "colab": {
          "base_uri": "https://localhost:8080/"
        },
        "id": "s7QaUUnfEQUt",
        "outputId": "edabb21b-4dc0-4616-b70d-732b3d95922a"
      },
      "execution_count": null,
      "outputs": [
        {
          "output_type": "stream",
          "name": "stdout",
          "text": [
            "      tconst  titleType              primaryTitle             originalTitle  \\\n",
            "0  tt0043745      short                 Lion Down                 Lion Down   \n",
            "1  tt0167491      video         Wicked Covergirls         Wicked Covergirls   \n",
            "2  tt6574096  tvEpisode      Shadow Play - Part 2      Shadow Play - Part 2   \n",
            "3  tt6941700  tvEpisode              RuPaul Roast              RuPaul Roast   \n",
            "4  tt7305674      video  UCLA Track & Field Promo  UCLA Track & Field Promo   \n",
            "\n",
            "   isAdult  startYear  endYear runtimeMinutes                      genres  \\\n",
            "0        0     1951.0      NaN              7     Animation,Comedy,Family   \n",
            "1        1     1998.0      NaN             85                       Adult   \n",
            "2        0     2017.0      NaN             22  Adventure,Animation,Comedy   \n",
            "3        0     2017.0      NaN            NaN                  Reality-TV   \n",
            "4        0     2017.0      NaN            NaN                 Short,Sport   \n",
            "\n",
            "   averageRating  numVotes  \n",
            "0            7.1       459  \n",
            "1            5.7         7  \n",
            "2            8.5       240  \n",
            "3            8.0        11  \n",
            "4            9.7         7  \n",
            "<class 'pandas.core.frame.DataFrame'>\n",
            "Int64Index: 1378 entries, 0 to 1377\n",
            "Data columns (total 11 columns):\n",
            " #   Column          Non-Null Count  Dtype  \n",
            "---  ------          --------------  -----  \n",
            " 0   tconst          1378 non-null   object \n",
            " 1   titleType       1378 non-null   object \n",
            " 2   primaryTitle    1378 non-null   object \n",
            " 3   originalTitle   1378 non-null   object \n",
            " 4   isAdult         1378 non-null   int64  \n",
            " 5   startYear       1376 non-null   float64\n",
            " 6   endYear         26 non-null     float64\n",
            " 7   runtimeMinutes  1006 non-null   object \n",
            " 8   genres          1376 non-null   object \n",
            " 9   averageRating   1378 non-null   float64\n",
            " 10  numVotes        1378 non-null   int64  \n",
            "dtypes: float64(3), int64(2), object(6)\n",
            "memory usage: 129.2+ KB\n",
            "None\n"
          ]
        }
      ]
    },
    {
      "cell_type": "code",
      "source": [
        "# Memperkecil ukuran Table\n",
        "movie_rating_df = movie_rating_df.dropna(subset=['startYear','runtimeMinutes'])\n",
        "\n",
        "#Untuk memastikan bahwa sudah tidak ada lagi nilai NULL\n",
        "print(movie_rating_df.info())"
      ],
      "metadata": {
        "colab": {
          "base_uri": "https://localhost:8080/"
        },
        "id": "ba0dav55EVSA",
        "outputId": "cea534b2-ecc7-4ff7-d7ad-0621d6a0a195"
      },
      "execution_count": null,
      "outputs": [
        {
          "output_type": "stream",
          "name": "stdout",
          "text": [
            "<class 'pandas.core.frame.DataFrame'>\n",
            "Int64Index: 1004 entries, 0 to 1374\n",
            "Data columns (total 11 columns):\n",
            " #   Column          Non-Null Count  Dtype  \n",
            "---  ------          --------------  -----  \n",
            " 0   tconst          1004 non-null   object \n",
            " 1   titleType       1004 non-null   object \n",
            " 2   primaryTitle    1004 non-null   object \n",
            " 3   originalTitle   1004 non-null   object \n",
            " 4   isAdult         1004 non-null   int64  \n",
            " 5   startYear       1004 non-null   float64\n",
            " 6   endYear         17 non-null     float64\n",
            " 7   runtimeMinutes  1004 non-null   object \n",
            " 8   genres          1004 non-null   object \n",
            " 9   averageRating   1004 non-null   float64\n",
            " 10  numVotes        1004 non-null   int64  \n",
            "dtypes: float64(3), int64(2), object(6)\n",
            "memory usage: 94.1+ KB\n",
            "None\n"
          ]
        }
      ]
    },
    {
      "cell_type": "code",
      "source": [
        "# Pertanyaan 1: Berapa nilai C?\n",
        "C = movie_rating_df['averageRating'].mean()\n",
        "print(C)"
      ],
      "metadata": {
        "colab": {
          "base_uri": "https://localhost:8080/"
        },
        "id": "7-5jfvODEZ6u",
        "outputId": "6f400a70-fa57-4c8f-f2ab-43a00898d49f"
      },
      "execution_count": null,
      "outputs": [
        {
          "output_type": "stream",
          "name": "stdout",
          "text": [
            "6.829581673306767\n"
          ]
        }
      ]
    },
    {
      "cell_type": "code",
      "source": [
        "# Pertanyaan 2: Berapa nilai m?\n",
        "m = movie_rating_df['numVotes'].quantile(0.8)\n",
        "print(m)"
      ],
      "metadata": {
        "colab": {
          "base_uri": "https://localhost:8080/"
        },
        "id": "AdOuhbknEhtd",
        "outputId": "9cdd1d3c-23d4-4fb6-e31d-d65513cb8f08"
      },
      "execution_count": null,
      "outputs": [
        {
          "output_type": "stream",
          "name": "stdout",
          "text": [
            "229.0\n"
          ]
        }
      ]
    },
    {
      "cell_type": "code",
      "source": [
        "# Pertanyaan 3: Bagaimana cara membuat fungsi weighted formula?\n",
        "def imdb_weighted_rating(df, var=0.8):\n",
        "    v = df['numVotes']\n",
        "    R = df['averageRating']\n",
        "    C = df['averageRating'].mean()\n",
        "    m = df['numVotes'].quantile(var)\n",
        "    df['score'] = (v/(m+v))*R + (m/(m+v))*C #Rumus IMDb \n",
        "    return df['score']\n",
        "    \n",
        "imdb_weighted_rating(movie_rating_df)\n",
        "\n",
        "#melakukan pengecekan dataframe\n",
        "print(movie_rating_df.head())"
      ],
      "metadata": {
        "colab": {
          "base_uri": "https://localhost:8080/"
        },
        "id": "pSHV-w2ZEkJ5",
        "outputId": "c1cfe8ee-fe85-4bbf-cdd5-d43cbec63802"
      },
      "execution_count": null,
      "outputs": [
        {
          "output_type": "stream",
          "name": "stdout",
          "text": [
            "      tconst  titleType              primaryTitle             originalTitle  \\\n",
            "0  tt0043745      short                 Lion Down                 Lion Down   \n",
            "1  tt0167491      video         Wicked Covergirls         Wicked Covergirls   \n",
            "2  tt6574096  tvEpisode      Shadow Play - Part 2      Shadow Play - Part 2   \n",
            "3  tt6941700  tvEpisode              RuPaul Roast              RuPaul Roast   \n",
            "4  tt7305674      video  UCLA Track & Field Promo  UCLA Track & Field Promo   \n",
            "\n",
            "   isAdult  startYear  endYear runtimeMinutes                      genres  \\\n",
            "0        0     1951.0      NaN              7     Animation,Comedy,Family   \n",
            "1        1     1998.0      NaN             85                       Adult   \n",
            "2        0     2017.0      NaN             22  Adventure,Animation,Comedy   \n",
            "3        0     2017.0      NaN            NaN                  Reality-TV   \n",
            "4        0     2017.0      NaN            NaN                 Short,Sport   \n",
            "\n",
            "   averageRating  numVotes     score  \n",
            "0            7.1       459  7.047618  \n",
            "1            5.7         7  6.813514  \n",
            "2            8.5       240  7.910725  \n",
            "3            8.0        11  6.955323  \n",
            "4            9.7         7  7.009318  \n"
          ]
        }
      ]
    },
    {
      "cell_type": "code",
      "source": [
        "# Pertanyaan 4: Bagaimana cara membuat simple recommender system?\n",
        "def simple_recommender(df, top=100):\n",
        "    df = df.loc[df['numVotes'] >= m]\n",
        "    df = df.sort_values(by='score', ascending=False) #urutkan dari nilai tertinggi ke terendah\n",
        "    \n",
        "    #Ambil data 100 teratas\n",
        "    df = df[:top]\n",
        "    return df\n",
        "    \n",
        "#Ambil data 25 teratas     \n",
        "print(simple_recommender(movie_rating_df, top=25))"
      ],
      "metadata": {
        "colab": {
          "base_uri": "https://localhost:8080/"
        },
        "id": "osH2vGlfEqmR",
        "outputId": "97822346-fa71-495e-d4a2-d97845ea8ac7"
      },
      "execution_count": null,
      "outputs": [
        {
          "output_type": "stream",
          "name": "stdout",
          "text": [
            "         tconst  titleType                                   primaryTitle  \\\n",
            "68    tt4110822  tvEpisode                                  S.O.S. Part 2   \n",
            "236   tt2200252      video                    Attack of the Clones Review   \n",
            "1181  tt7697962  tvEpisode            Chapter Seventeen: The Missionaries   \n",
            "326   tt7124590  tvEpisode            Chapter Thirty-Four: Judgment Night   \n",
            "1045  tt0533506  tvEpisode                                       The Prom   \n",
            "71    tt8399426  tvEpisode                                        Savages   \n",
            "1234  tt2843830  tvEpisode                                          VIII.   \n",
            "1087  tt4295140   tvSeries                                   Chef's Table   \n",
            "1054  tt2503932  tvEpisode                                Trial and Error   \n",
            "448   tt0337566      video                       AC/DC: Live at Donington   \n",
            "624   tt0620159  tvEpisode                                     Strike Out   \n",
            "1281  tt3166390  tvEpisode                         Looking for a Plus-One   \n",
            "314   tt0954759  tvEpisode                                   Ben Franklin   \n",
            "189   tt5661506      video            Florence + the Machine: The Odyssey   \n",
            "151   tt3954426  tvEpisode                                Bleeding Kansas   \n",
            "1344  tt6644294  tvEpisode                 The Hostile Hospital: Part Two   \n",
            "1242  tt3677742  tvSpecial  Saturday Night Live: 40th Anniversary Special   \n",
            "1217  tt3642464  tvEpisode                                    Giant Woman   \n",
            "544   tt0734655  tvEpisode                              The Little People   \n",
            "49    tt9119838  tvEpisode                      Parisian Legend Has It...   \n",
            "357   tt4084774  tvEpisode                           Trial and Punishment   \n",
            "1111  tt4174072  tvEpisode                     Immortal Emerges from Cave   \n",
            "790   tt4279086  tvEpisode                       And Santa's Midnight Run   \n",
            "972   tt0048028      movie                                   East of Eden   \n",
            "819   tt0032156      movie            The Story of the Last Chrysanthemum   \n",
            "\n",
            "                                      originalTitle  isAdult  startYear  \\\n",
            "68                                    S.O.S. Part 2        0     2015.0   \n",
            "236                     Attack of the Clones Review        0     2010.0   \n",
            "1181            Chapter Seventeen: The Missionaries        0     2019.0   \n",
            "326             Chapter Thirty-Four: Judgment Night        0     2018.0   \n",
            "1045                                       The Prom        0     1999.0   \n",
            "71                                          Savages        0     2018.0   \n",
            "1234                                          VIII.        0     2014.0   \n",
            "1087                                   Chef's Table        0     2015.0   \n",
            "1054                                Trial and Error        0     2013.0   \n",
            "448                        AC/DC: Live at Donington        0     1992.0   \n",
            "624                                      Strike Out        0     2000.0   \n",
            "1281                         Looking for a Plus-One        0     2014.0   \n",
            "314                                    Ben Franklin        0     2007.0   \n",
            "189             Florence + the Machine: The Odyssey        0     2016.0   \n",
            "151                                 Bleeding Kansas        0     2014.0   \n",
            "1344                 The Hostile Hospital: Part Two        0     2018.0   \n",
            "1242  Saturday Night Live: 40th Anniversary Special        0     2015.0   \n",
            "1217                                    Giant Woman        0     2014.0   \n",
            "544                               The Little People        0     1962.0   \n",
            "49                        Parisian Legend Has It...        0     2019.0   \n",
            "357                            Trial and Punishment        0     2015.0   \n",
            "1111                     Immortal Emerges from Cave        0     2017.0   \n",
            "790                        And Santa's Midnight Run        0     2014.0   \n",
            "972                                    East of Eden        0     1955.0   \n",
            "819                              Zangiku monogatari        0     1939.0   \n",
            "\n",
            "      endYear runtimeMinutes                          genres  averageRating  \\\n",
            "68        NaN             43      [Action, Adventure, Drama]            9.4   \n",
            "236       NaN             86                              []            9.3   \n",
            "1181      NaN             54        [Drama, Fantasy, Horror]            9.2   \n",
            "326       NaN             42         [Crime, Drama, Mystery]            9.1   \n",
            "1045      NaN             60        [Action, Drama, Fantasy]            8.9   \n",
            "71        NaN             58       [Drama, Fantasy, Romance]            9.0   \n",
            "1234      NaN             57              [Adventure, Drama]            8.9   \n",
            "1087      NaN             50                              []            8.6   \n",
            "1054      NaN             43        [Drama, Fantasy, Horror]            8.6   \n",
            "448       NaN            120            [Documentary, Music]            8.5   \n",
            "624       NaN             30                              []            8.7   \n",
            "1281      NaN             28        [Comedy, Drama, Romance]            8.7   \n",
            "314       NaN             21                              []            8.1   \n",
            "189       NaN             49                              []            8.8   \n",
            "151       NaN             42                [Drama, Western]            8.6   \n",
            "1344      NaN             40      [Adventure, Comedy, Drama]            8.3   \n",
            "1242      NaN            106                              []            8.1   \n",
            "1217      NaN             11  [Adventure, Animation, Comedy]            8.4   \n",
            "544       NaN             25        [Drama, Fantasy, Horror]            8.1   \n",
            "49        NaN             42                              []            8.9   \n",
            "357       NaN             56              [Adventure, Drama]            8.8   \n",
            "1111      NaN             53      [Action, Adventure, Crime]            8.0   \n",
            "790       NaN             42     [Action, Adventure, Comedy]            8.2   \n",
            "972       NaN            118                              []            7.9   \n",
            "819       NaN            143                [Drama, Romance]            7.9   \n",
            "\n",
            "      numVotes     score  \n",
            "68        3820  9.254624  \n",
            "236       1411  8.955045  \n",
            "1181      1536  8.892450  \n",
            "326       1859  8.850993  \n",
            "1045      2740  8.740308  \n",
            "71        1428  8.700045  \n",
            "1234      1753  8.660784  \n",
            "1087     12056  8.566998  \n",
            "1054      2495  8.451165  \n",
            "448       1343  8.256663  \n",
            "624        401  8.020118  \n",
            "1281       396  8.014679  \n",
            "314       2766  8.002863  \n",
            "189        330  7.992798  \n",
            "151        437  7.991253  \n",
            "1344       812  7.976536  \n",
            "1242      1931  7.965312  \n",
            "1217       566  7.947641  \n",
            "544       1559  7.937290  \n",
            "49         263  7.936330  \n",
            "357        289  7.928908  \n",
            "1111      2898  7.914287  \n",
            "790        823  7.901687  \n",
            "972      38543  7.893678  \n",
            "819       2974  7.823470  \n"
          ]
        }
      ]
    }
  ]
}