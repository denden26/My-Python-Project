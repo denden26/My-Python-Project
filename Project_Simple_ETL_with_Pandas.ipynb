{
  "nbformat": 4,
  "nbformat_minor": 0,
  "metadata": {
    "colab": {
      "name": "Project Simple ETL with Pandas",
      "provenance": [],
      "authorship_tag": "ABX9TyPZnqumFnljfF4X45zMRPvC",
      "include_colab_link": true
    },
    "kernelspec": {
      "name": "python3",
      "display_name": "Python 3"
    },
    "language_info": {
      "name": "python"
    }
  },
  "cells": [
    {
      "cell_type": "markdown",
      "metadata": {
        "id": "view-in-github",
        "colab_type": "text"
      },
      "source": [
        "<a href=\"https://colab.research.google.com/github/denden26/Project-Machine-Learning-for-Retail-with-R-Product-Packaging/blob/main/Project_Simple_ETL_with_Pandas.ipynb\" target=\"_parent\"><img src=\"https://colab.research.google.com/assets/colab-badge.svg\" alt=\"Open In Colab\"/></a>"
      ]
    },
    {
      "cell_type": "markdown",
      "source": [
        "**Project yang Akan Dikerjakan**\n",
        "\n",
        "**Denden Dilah Al-zikri (01/02/2022)**\n",
        "\n",
        "Pada proyek kali ini, diminta untuk mengolah data pendaftar hackathon yang diselenggarakan oleh DQLab bernama DQThon.\n",
        "\n",
        "Dataset ini terdiri dari 5000 baris data (5000 pendaftar) dengan format CSV (Comma-separated values) dan memiliki beberapa kolom diantaranya:\n",
        "\n",
        "1. participant_id: ID dari peserta/partisipan hackathon. Kolom ini bersifat unique sehingga antar peserta pasti memiliki ID yang berbeda\n",
        "2. first_name: nama depan peserta\n",
        "3. last_name: nama belakang peserta\n",
        "4. birth_date: tanggal lahir peserta\n",
        "5. address: alamat tempat tinggal peserta\n",
        "6. phone_number: nomor hp/telepon peserta\n",
        "7. country: negara asal peserta\n",
        "8. institute: institusi peserta saat ini, bisa berupa nama perusahaan maupun nama universitas\n",
        "9. occupation: pekerjaan peserta saat ini\n",
        "10. register_time: waktu peserta melakukan pendaftaran hackathon dalam second\n",
        "\n",
        "\n",
        "Namun pada proyek ini nantinya Anda diminta untuk menghasilkan beberapa kolom dengan memanfaatkan kolom-kolom yang ada, sehingga akhir dari proyek ini berupa hasil transformasi data dengan beberapa kolom baru selain dari 10 kolom diatas."
      ],
      "metadata": {
        "id": "Qm08mUzpfgT-"
      }
    },
    {
      "cell_type": "markdown",
      "source": [
        "**Extract Data**\n",
        "\n",
        "Extract merupakan proses meng-ekstraksi data dari sumber, sumber data ini bisa berupa relational data (SQL) atau tabel, nonrelational (NoSQL) maupun yang lainnya.\n",
        "\n",
        "Tugas sekarang adalah baca terlebih dahulu dataset ini sebagai CSV agar nantinya bisa diolah. \n",
        "\n",
        "File tersebut bisa diakses melalui URL: https://storage.googleapis.com/dqlab-dataset/dqthon-participants.csv.\n",
        "\n"
      ],
      "metadata": {
        "id": "AblTscLKf9j4"
      }
    },
    {
      "cell_type": "code",
      "execution_count": null,
      "metadata": {
        "id": "0zSOM-3cfOF_"
      },
      "outputs": [],
      "source": [
        "import pandas as pd\n",
        "df_participant = pd.read_csv('https://storage.googleapis.com/dqlab-dataset/dqthon-participants.csv')"
      ]
    },
    {
      "cell_type": "markdown",
      "source": [
        "**Transform**\n",
        "\n",
        "Transform merupakan proses melakukan transformasi data, atau perubahan terhadap data. Umumnya seperti:\n",
        "\n",
        "1. Merubah nilai dari suatu kolom ke nilai baru,\n",
        "2. Menciptakan kolom baru dengan memanfaatkan kolom lain,\n",
        "3. Transpose baris menjadi kolom (atau sebaliknya),\n",
        "4. Mengubah format data ke bentuk yang lebih standard (contohnya, kolom date, maupun datetime yang biasanya memiliki nilai yang tidak standard maupun nomor HP yang biasanya memiliki nilai yang tidak sesuai format standardnya), dan lainnya. \n"
      ],
      "metadata": {
        "id": "2Zj5j9YjgOml"
      }
    },
    {
      "cell_type": "markdown",
      "source": [
        "**Transform Bagian I - Kode Pos**"
      ],
      "metadata": {
        "id": "oc4PpY9vgcf6"
      }
    },
    {
      "cell_type": "code",
      "source": [
        "df_participant['postal_code'] = df_participant['address'].str.extract(r'(\\d+)$')"
      ],
      "metadata": {
        "id": "SVumsJ4dgeML"
      },
      "execution_count": null,
      "outputs": []
    },
    {
      "cell_type": "markdown",
      "source": [
        "**Transform Bagian II - Kota**"
      ],
      "metadata": {
        "id": "z55kxWVFfeqx"
      }
    },
    {
      "cell_type": "code",
      "source": [
        "#Masukkan regex Anda didalam fungsi extract\n",
        "df_participant['city'] = df_participant['address'].str.extract(r'(?<=\\n)(\\w.+)(?=,)') "
      ],
      "metadata": {
        "id": "Vu6BizJsgnCa"
      },
      "execution_count": null,
      "outputs": []
    },
    {
      "cell_type": "markdown",
      "source": [
        "**Transform Bagian III - Github**\n",
        "\n",
        "Salah satu parameter untuk mengetahui proyek apa saja yang pernah dikerjakan oleh peserta yaitu dari git repository mereka."
      ],
      "metadata": {
        "id": "f0ddLlNbgqyw"
      }
    },
    {
      "cell_type": "code",
      "source": [
        "df_participant['github_profile'] = 'https://github.com/' + df_participant['first_name'].str.lower() + df_participant['last_name'].str.lower()"
      ],
      "metadata": {
        "id": "fxhfFfjQg0bV"
      },
      "execution_count": null,
      "outputs": []
    },
    {
      "cell_type": "markdown",
      "source": [
        "**Transform Bagian IV - Nomor Handphone**"
      ],
      "metadata": {
        "id": "W-Tiw4Jng2tq"
      }
    },
    {
      "cell_type": "code",
      "source": [
        "#Masukkan regex anda pada parameter pertama dari fungsi replace\n",
        "df_participant['cleaned_phone_number'] = df_participant['phone_number'].str.replace(r'^(\\+62|62)', '0')\n",
        "df_participant['cleaned_phone_number'] = df_participant['cleaned_phone_number'].str.replace(r'[()-]', '')\n",
        "df_participant['cleaned_phone_number'] = df_participant['cleaned_phone_number'].str.replace(r'\\s+', '')"
      ],
      "metadata": {
        "colab": {
          "base_uri": "https://localhost:8080/"
        },
        "id": "aVX4EsKGg5Cx",
        "outputId": "9df0075d-008f-41d9-a6c6-c7820fbe5661"
      },
      "execution_count": null,
      "outputs": [
        {
          "output_type": "stream",
          "name": "stderr",
          "text": [
            "/usr/local/lib/python3.7/dist-packages/ipykernel_launcher.py:2: FutureWarning: The default value of regex will change from True to False in a future version.\n",
            "  \n",
            "/usr/local/lib/python3.7/dist-packages/ipykernel_launcher.py:3: FutureWarning: The default value of regex will change from True to False in a future version.\n",
            "  This is separate from the ipykernel package so we can avoid doing imports until\n",
            "/usr/local/lib/python3.7/dist-packages/ipykernel_launcher.py:4: FutureWarning: The default value of regex will change from True to False in a future version.\n",
            "  after removing the cwd from sys.path.\n"
          ]
        }
      ]
    },
    {
      "cell_type": "markdown",
      "source": [
        "**Transform Bagian V - Nama Tim**"
      ],
      "metadata": {
        "id": "0EPxZiEvhIdi"
      }
    },
    {
      "cell_type": "code",
      "source": [
        "def func(col):\n",
        "    abbrev_name = \"%s%s\"%(col['first_name'][0],col['last_name'][0]) #Singkatan dari Nama Depan dan Nama Belakang dengan mengambil huruf pertama\n",
        "    country = col['country']\n",
        "    abbrev_institute = '%s'%(''.join(list(map(lambda word: word[0], col['institute'].split())))) #Singkatan dari value di kolom institute\n",
        "    return \"%s-%s-%s\"%(abbrev_name,country,abbrev_institute)\n",
        "\n",
        "df_participant['team_name'] = df_participant.apply(func, axis=1)"
      ],
      "metadata": {
        "id": "pqirl1fqhTxs"
      },
      "execution_count": null,
      "outputs": []
    },
    {
      "cell_type": "markdown",
      "source": [
        "**Transform Bagian VI - Email**\n",
        "\n",
        "Setelah dilihat kembali dari data peserta yang dimiliki, ternyata ada satu informasi yang penting namun belum tersedia, yaitu email."
      ],
      "metadata": {
        "id": "7aTcDpXIhXlY"
      }
    },
    {
      "cell_type": "code",
      "source": [
        "def func(col):\n",
        "    first_name_lower = col['first_name'].lower()\n",
        "    last_name_lower = col['last_name'].lower()\n",
        "    institute = ''.join(list(map(lambda word: word[0], col['institute'].lower().split()))) #Singkatan dari nama perusahaan dalam lowercase\n",
        "\n",
        "    if 'Universitas' in col['institute']:\n",
        "        if len(col['country'].split()) > 1: #Kondisi untuk mengecek apakah jumlah kata dari country lebih dari 1\n",
        "           \tcountry = ''.join(list(map(lambda word: word[0], col['country'].lower().split())))\n",
        "        else:\n",
        "           \tcountry = col['country'][:3].lower()\n",
        "        return \"%s%s@%s.ac.%s\"%(first_name_lower,last_name_lower,institute,country)\n",
        "\n",
        "    return \"%s%s@%s.com\"%(first_name_lower,last_name_lower,institute)\n",
        "\n",
        "df_participant['email'] = df_participant.apply(func, axis=1)"
      ],
      "metadata": {
        "id": "wP96VL7GhdUB"
      },
      "execution_count": null,
      "outputs": []
    },
    {
      "cell_type": "markdown",
      "source": [
        "**Transform Bagian VII - Tanggal Lahir**\n",
        "\n",
        "MySQL merupakan salah satu database yang sangat populer dan digunakan untuk menyimpan data berupa tabel, termasuk data hasil pengolahan yang sudah kita lakukan ini nantinya bisa dimasukkan ke MySQL.\n",
        "\n",
        "Meskipun begitu, ada suatu aturan dari MySQL terkait format tanggal yang bisa mereka terima yaitu YYYY-MM-DD dengan keterangan:\n",
        "\n",
        "- YYYY: 4 digit yang menandakan tahun\n",
        "- MM: 2 digit yang menandakan bulan\n",
        "- DD: 2 digit yang menandakan tanggal\n",
        "\n",
        "Contohnya yaitu: 2021-04-07"
      ],
      "metadata": {
        "id": "uSVF9brAhmD4"
      }
    },
    {
      "cell_type": "code",
      "source": [
        "df_participant['birth_date'] = pd.to_datetime(df_participant['birth_date'], format='%d %b %Y')"
      ],
      "metadata": {
        "id": "hjmYW_F2hyMq"
      },
      "execution_count": null,
      "outputs": []
    },
    {
      "cell_type": "markdown",
      "source": [
        "**Transform Bagian VII - Tanggal Daftar Kompetisi**\n",
        "\n",
        "Selain punya aturan mengenai format DATE, MySQL juga memberi aturan pada data yang bertipe DATETIME yaitu YYYY-MM-DD HH:mm:ss dengan keterangan:\n",
        "\n",
        "- YYYY: 4 digit yang menandakan tahun\n",
        "- MM: 2 digit yang menandakan bulan\n",
        "- DD: 2 digit yang menandakan tanggal\n",
        "- HH: 2 digit yang menandakan jam\n",
        "- mm: 2 digit yang menandakan menit\n",
        "- ss: 2 digit yang menandakan detik\n",
        "\n",
        "Contohnya yaitu: 2021-04-07 15:10:55"
      ],
      "metadata": {
        "id": "jd9XxjGKh3B_"
      }
    },
    {
      "cell_type": "code",
      "source": [
        "df_participant['register_at'] = pd.to_datetime(df_participant['register_time'], unit='s')"
      ],
      "metadata": {
        "id": "dXjri4j2iB9b"
      },
      "execution_count": null,
      "outputs": []
    },
    {
      "cell_type": "markdown",
      "source": [
        "**Kesimpulan**\n",
        "\n",
        "Dengan begitu, tibalah kita di penghujung dari bagian transform ini.\n",
        "\n",
        "Jika dilihat kembali, dataset Anda saat ini sudah berbeda dengan saat proses extract sebelumnya. Ada beberapa kolom tambahan yang memanfaatkan nilai kolom lain."
      ],
      "metadata": {
        "id": "EiSn_5E2iLsN"
      }
    },
    {
      "cell_type": "markdown",
      "source": [
        "**Load**\n",
        "\n",
        "Pada bagian load ini, data yang sudah ditransformasi sedemikian rupa sehingga sesuai dengan kebutuhan tim analyst dimasukkan kembali ke database yaitu Data Warehouse (DWH). Biasanya, dilakukan pendefinisian skema database terlebih dahulu seperti:\n",
        "\n",
        "1. Nama kolom\n",
        "2. Tipe kolom\n",
        "3. Apakah primary key, unique key, index atau bukan\n",
        "4. Panjang kolomnya\n",
        "\n",
        "Karena umumnya Data Warehouse merupakan database yang terstruktur sehingga mereka memerlukan skema sebelum datanya dimasukkan.\n",
        "\n",
        "Pandas sudah menyediakan fungsi untuk memasukkan data ke database yaitu to_sql().\n",
        "\n",
        "Detail dari fungsi tersebut bisa dilihat pada dokumentasi Pandas: https://pandas.pydata.org/docs/reference/api/pandas.DataFrame.to_sql.html"
      ],
      "metadata": {
        "id": "wMOkQElYisgb"
      }
    },
    {
      "cell_type": "markdown",
      "source": [
        "**Sekian dari project kali ini. Terima kasih**"
      ],
      "metadata": {
        "id": "49yyRhiHi6yo"
      }
    }
  ]
}